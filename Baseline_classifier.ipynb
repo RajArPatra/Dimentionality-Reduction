{
  "nbformat": 4,
  "nbformat_minor": 0,
  "metadata": {
    "colab": {
      "name": "Baseline_classifier.ipynb",
      "provenance": [],
      "collapsed_sections": [],
      "mount_file_id": "18W1y5Op2h-RPkajfOBQVbmNfY_PeGq2s",
      "authorship_tag": "ABX9TyMYipTJ7uJMN71Nt7YlhTvn",
      "include_colab_link": true
    },
    "kernelspec": {
      "name": "python3",
      "display_name": "Python 3"
    },
    "language_info": {
      "name": "python"
    }
  },
  "cells": [
    {
      "cell_type": "markdown",
      "metadata": {
        "id": "view-in-github",
        "colab_type": "text"
      },
      "source": [
        "<a href=\"https://colab.research.google.com/github/RajArPatra/Dimentionality-Reduction/blob/main/Baseline_classifier.ipynb\" target=\"_parent\"><img src=\"https://colab.research.google.com/assets/colab-badge.svg\" alt=\"Open In Colab\"/></a>"
      ]
    },
    {
      "cell_type": "markdown",
      "metadata": {
        "id": "0g2TlknZAIDK"
      },
      "source": [
        "Download the dataset and model weight"
      ]
    },
    {
      "cell_type": "code",
      "metadata": {
        "colab": {
          "base_uri": "https://localhost:8080/"
        },
        "id": "34YGe2ritJ0Q",
        "outputId": "c784a35d-61e5-41c9-dd60-9851929b2797"
      },
      "source": [
        "!gdown https://drive.google.com/u/0/uc?id=1-H5IQDbh4rxsHhcQBEnljRj_lc8fQmby&export=download\n",
        "\n",
        "!gdown https://drive.google.com/u/0/uc?id=1Nl-RU5HggCSWWqINN4gbxHAVzER6T2Po&export=download\n",
        "!gzip -d /content/HIGGS_6M.csv.gz"
      ],
      "execution_count": null,
      "outputs": [
        {
          "output_type": "stream",
          "text": [
            "Downloading...\n",
            "From: https://drive.google.com/u/0/uc?id=1Nl-RU5HggCSWWqINN4gbxHAVzER6T2Po\n",
            "To: /content/HIGGS_6M.csv.gz\n",
            "1.56GB [00:16, 96.8MB/s]\n"
          ],
          "name": "stdout"
        }
      ]
    },
    {
      "cell_type": "markdown",
      "metadata": {
        "id": "syWYWjiYAl-r"
      },
      "source": [
        "Import Libraries"
      ]
    },
    {
      "cell_type": "code",
      "metadata": {
        "id": "vv7KWMI89AXq"
      },
      "source": [
        "from sklearn.preprocessing import StandardScaler,MinMaxScaler\n",
        "import pandas as pd\n",
        "import torchvision\n",
        "import os\n",
        "import numpy as np\n",
        "from skimage import io,transform as ts\n",
        "import torch\n",
        "from torchvision import transforms\n",
        "from torch.utils.data import Dataset\n",
        "import torch\n",
        "import torch.nn as nn\n",
        "import torch.nn.functional as F\n",
        "from PIL import Image\n",
        "import imgaug as ia\n",
        "import imgaug.augmenters as iaa\n",
        "from sklearn.decomposition import PCA\n",
        "from sklearn.manifold import TSNE\n",
        "#from bhtsne import tsne\n",
        "from torch.autograd import Variable"
      ],
      "execution_count": null,
      "outputs": []
    },
    {
      "cell_type": "code",
      "metadata": {
        "id": "V-bmGSx39DZv"
      },
      "source": [
        "from torch.utils.tensorboard import SummaryWriter\n",
        "writer = SummaryWriter()"
      ],
      "execution_count": null,
      "outputs": []
    },
    {
      "cell_type": "markdown",
      "metadata": {
        "id": "VncR-qFwEf1W"
      },
      "source": [
        "Train and Test Split Preparation"
      ]
    },
    {
      "cell_type": "code",
      "metadata": {
        "id": "Ht_HUAPO9Hw3"
      },
      "source": [
        "import pandas as pd \n",
        "import numpy as np\n",
        "df= pd.read_csv('/content/HIGGS_6M.csv')\n",
        "\n",
        "df=df.replace([np.inf, -np.inf],np.nan)\n",
        "#print(df.isnull().sum())\n",
        "df1=df.iloc[:-500000]\n",
        "df2=df.iloc[-500000:]\n",
        "\n",
        "np.save('train.npy', df1.to_numpy(),True)\n",
        "np.save('test.npy', df2.to_numpy(),True)\n",
        "del df,df1,df2"
      ],
      "execution_count": null,
      "outputs": []
    },
    {
      "cell_type": "markdown",
      "metadata": {
        "id": "sINGpnNkBeLT"
      },
      "source": [
        "Dataset and Dataloader"
      ]
    },
    {
      "cell_type": "code",
      "metadata": {
        "id": "Fjo_viUT9MNi"
      },
      "source": [
        "class data1(Dataset):\n",
        "    def __init__(self, train=True,device='cpu'):\n",
        "      self.train=train\n",
        "      self.scaler=MinMaxScaler()\n",
        "      \n",
        "      #self.scaler.fit(np.load('train_num.npy',allow_pickle=True)[:,-1].reshape(-1, 1))\n",
        "      self.device=device\n",
        "      #x_test = np.load(f,allow_pickle=True)\n",
        "      #y_test= np.load('/content/y_test_pred.npy',allow_pickle=True) \n",
        "      #z=int(0.9*X_train.shape[0])\n",
        "      \n",
        "     \n",
        "      if train:\n",
        "        self.data= np.load('train.npy',allow_pickle=True)\n",
        "        self.data_x=self.data[:,1:]\n",
        "        \n",
        "        self.data_y=self.data[:,0]\n",
        "      \n",
        "      else:\n",
        "        self.data= np.load('test.npy',allow_pickle=True)\n",
        "        self.data_x=self.data[:,1:]\n",
        "        \n",
        "        self.data_y=self.data[:,0]\n",
        "      \n",
        "     \n",
        "      \n",
        "    def __getitem__(self, idx):\n",
        "     \n",
        "      #X=scaler.fit_transform(X.reshape(1, -1))\n",
        "      X=torch.from_numpy(self.data_x[idx]).float()\n",
        "      \n",
        "      \n",
        "      \n",
        "      '''if self.train:\n",
        "        y=torch.tensor(self.map[int(self.data_y[idx])])\n",
        "      else:'''\n",
        "      \n",
        "      y=torch.tensor(self.data_y[idx]).long()\n",
        "      \n",
        "     \n",
        "      return X.to(self.device), y.to(self.device)\n",
        "      \n",
        "    def __len__(self):\n",
        "      \n",
        "      return self.data.shape[0]"
      ],
      "execution_count": null,
      "outputs": []
    },
    {
      "cell_type": "code",
      "metadata": {
        "id": "P355x3GC9QDg",
        "colab": {
          "base_uri": "https://localhost:8080/",
          "height": 35
        },
        "outputId": "65d4d46a-8088-4151-fe3e-04b6f8319762"
      },
      "source": [
        "if torch.cuda.is_available():\n",
        "  device='cuda'\n",
        "else :\n",
        "   device='cpu'\n",
        "device"
      ],
      "execution_count": null,
      "outputs": [
        {
          "output_type": "execute_result",
          "data": {
            "application/vnd.google.colaboratory.intrinsic+json": {
              "type": "string"
            },
            "text/plain": [
              "'cpu'"
            ]
          },
          "metadata": {
            "tags": []
          },
          "execution_count": 7
        }
      ]
    },
    {
      "cell_type": "code",
      "metadata": {
        "id": "XI4V8O8T9S0X"
      },
      "source": [
        "train_dataset=data1(train=True,device=device)\n",
        "test_dataset=data1(train=False,device=device)\n",
        "train_loader=torch.utils.data.DataLoader(dataset=train_dataset, \n",
        "                                           batch_size=256,\n",
        "                                           shuffle=True)\n",
        "test_loader=torch.utils.data.DataLoader(dataset=test_dataset, \n",
        "                                           batch_size=256, \n",
        "                                           shuffle=False)"
      ],
      "execution_count": null,
      "outputs": []
    },
    {
      "cell_type": "markdown",
      "metadata": {
        "id": "vtUR1NrqBiKn"
      },
      "source": [
        "Model Architecture"
      ]
    },
    {
      "cell_type": "code",
      "metadata": {
        "id": "tH3yQPpA9YZl"
      },
      "source": [
        "import torch\n",
        "from torch import nn\n",
        "\n",
        "import torch\n",
        "from torch import nn\n",
        "import torch.nn.functional as F\n",
        "\n",
        "\n",
        "class Conv1dSamePadding(nn.Conv1d):\n",
        "\n",
        "    def forward(self, input):\n",
        "        return conv1d_same_padding(input, self.weight, self.bias, self.stride,\n",
        "                                   self.dilation, self.groups)\n",
        "\n",
        "\n",
        "def conv1d_same_padding(input, weight, bias, stride, dilation, groups):\n",
        "    # stride and dilation are expected to be tuples.\n",
        "    kernel, dilation, stride = weight.size(2), dilation[0], stride[0]\n",
        "    l_out = l_in = input.size(2)\n",
        "    padding = (((l_out - 1) * stride) - l_in + (dilation * (kernel - 1)) + 1)\n",
        "    if padding % 2 != 0:\n",
        "        input = F.pad(input, [0, 1])\n",
        "\n",
        "    return F.conv1d(input=input, weight=weight, bias=bias, stride=stride,\n",
        "                    padding=padding // 2,\n",
        "                    dilation=dilation, groups=groups)\n",
        "\n",
        "\n",
        "class ConvBlock(nn.Module):\n",
        "\n",
        "    def __init__(self, in_channels: int, out_channels: int, kernel_size: int,\n",
        "                 stride: int) -> None:\n",
        "        super().__init__()\n",
        "\n",
        "        self.layers = nn.Sequential(\n",
        "            Conv1dSamePadding(in_channels=in_channels,\n",
        "                              out_channels=out_channels,\n",
        "                              kernel_size=kernel_size,\n",
        "                              stride=stride),\n",
        "            nn.BatchNorm1d(num_features=out_channels),\n",
        "            nn.ReLU(),\n",
        "        )\n",
        "\n",
        "    def forward(self, x: torch.Tensor) -> torch.Tensor:  # type: ignore\n",
        "\n",
        "        return self.layers(x)\n",
        "\n",
        "\n",
        "\n",
        "\n",
        "\n",
        "\n",
        "\n",
        "\n",
        "\n",
        "class ResNetBaseline(nn.Module):\n",
        "\n",
        "\n",
        "    def __init__(self, in_channels: int, mid_channels: int = 64,\n",
        "                 num_pred_classes: int = 1) -> None:\n",
        "        super().__init__()\n",
        "\n",
        "        # for easier saving and loading\n",
        "        self.input_args = {\n",
        "            'in_channels': in_channels,\n",
        "            'num_pred_classes': num_pred_classes\n",
        "        }\n",
        "\n",
        "        self.layers = nn.Sequential(*[\n",
        "            ResNetBlock(in_channels=in_channels, out_channels=mid_channels),\n",
        "            ResNetBlock(in_channels=mid_channels, out_channels=mid_channels * 2),\n",
        "            ResNetBlock(in_channels=mid_channels * 2, out_channels=mid_channels * 2),\n",
        "\n",
        "        ])\n",
        "        self.final = nn.Linear(mid_channels * 2, num_pred_classes)\n",
        "\n",
        "    def forward(self, x: torch.Tensor) -> torch.Tensor:  # type: ignore\n",
        "        x = self.layers(x.unsqueeze(2))\n",
        "        return self.final(x.mean(dim=-1))\n",
        "\n",
        "\n",
        "class ResNetBlock(nn.Module):\n",
        "\n",
        "    def __init__(self, in_channels: int, out_channels: int) -> None:\n",
        "        super().__init__()\n",
        "\n",
        "        channels = [in_channels, out_channels, out_channels, out_channels]\n",
        "        kernel_sizes = [8, 5, 3]\n",
        "\n",
        "        self.layers = nn.Sequential(*[\n",
        "            ConvBlock(in_channels=channels[i], out_channels=channels[i + 1],\n",
        "                      kernel_size=kernel_sizes[i], stride=1) for i in range(len(kernel_sizes))\n",
        "        ])\n",
        "\n",
        "        self.match_channels = False\n",
        "        if in_channels != out_channels:\n",
        "            self.match_channels = True\n",
        "            self.residual = nn.Sequential(*[\n",
        "                Conv1dSamePadding(in_channels=in_channels, out_channels=out_channels,\n",
        "                                  kernel_size=1, stride=1),\n",
        "                nn.BatchNorm1d(num_features=out_channels)\n",
        "            ])\n",
        "\n",
        "    def forward(self, x: torch.Tensor) -> torch.Tensor:  # type: ignore\n",
        "\n",
        "        if self.match_channels:\n",
        "            return self.layers(x) + self.residual(x)\n",
        "        return self.layers(x)"
      ],
      "execution_count": null,
      "outputs": []
    },
    {
      "cell_type": "markdown",
      "metadata": {
        "id": "9qqe--OtBsqn"
      },
      "source": [
        "Helper function to Initialise weight"
      ]
    },
    {
      "cell_type": "code",
      "metadata": {
        "id": "5edXoGOadL00"
      },
      "source": [
        "from torch.nn import init\n",
        "def init_weights(net, init_type='normal', gain=0.02):\n",
        "    def init_func(m):\n",
        "        classname = m.__class__.__name__\n",
        "        if hasattr(m, 'weight') and (classname.find('Conv') != -1 or classname.find('Linear') != -1):\n",
        "            if init_type == 'normal':\n",
        "                init.normal_(m.weight.data, 0.0, gain)\n",
        "            elif init_type == 'xavier':\n",
        "                init.xavier_normal_(m.weight.data, gain=gain)\n",
        "            elif init_type == 'kaiming':\n",
        "                init.kaiming_normal_(m.weight.data, a=0, mode='fan_in')\n",
        "            elif init_type == 'orthogonal':\n",
        "                init.orthogonal_(m.weight.data, gain=gain)\n",
        "            else:\n",
        "                raise NotImplementedError('initialization method [%s] is not implemented' % init_type)\n",
        "            if hasattr(m, 'bias') and m.bias is not None:\n",
        "                init.constant_(m.bias.data, 0.0)\n",
        "        elif classname.find('BatchNorm2d') != -1:\n",
        "            init.normal_(m.weight.data, 1.0, gain)\n",
        "            init.constant_(m.bias.data, 0.0)\n",
        "\n",
        "    print('initialize network with %s' % init_type)\n",
        "    net.apply(init_func)"
      ],
      "execution_count": null,
      "outputs": []
    },
    {
      "cell_type": "code",
      "metadata": {
        "id": "z-HD8Eq69cdT",
        "colab": {
          "base_uri": "https://localhost:8080/"
        },
        "outputId": "703255a3-b533-4b59-85fd-159d1d7b30f3"
      },
      "source": [
        "model=ResNetBaseline(in_channels=28,num_pred_classes=2)\n",
        "model=model.to(device)\n",
        "init_weights(model,'kaiming')\n",
        "learning_rate = 0.001\n",
        "criterion1 = nn.CrossEntropyLoss()  \n",
        "#optimizer1 = torch.optim.SGD(model.parameters(), lr=learning_rate,momentum=0.9,weight_decay=0.0005,nesterov=True)  \n",
        "optimizer1=torch.optim.Adam(model.parameters(), lr=learning_rate)\n",
        "scheduler=torch.optim.lr_scheduler.CosineAnnealingLR(optimizer1, T_max=10, eta_min=0)\n"
      ],
      "execution_count": null,
      "outputs": [
        {
          "output_type": "stream",
          "text": [
            "initialize network with kaiming\n"
          ],
          "name": "stdout"
        }
      ]
    },
    {
      "cell_type": "code",
      "metadata": {
        "id": "y7jKkOSxErkU"
      },
      "source": [
        "def accuracy_fn(output, target, topk=(1,)):\n",
        "    \"\"\"Computes the precision@k for the specified values of k\"\"\"\n",
        "    maxk = max(topk)\n",
        "    batch_size = target.size(0)\n",
        "\n",
        "    _, pred = output.topk(maxk, 1, True, True)\n",
        "    pred = pred.t()\n",
        "    correct = pred.eq(target.view(1, -1).expand_as(pred))\n",
        "\n",
        "    res = []\n",
        "    for k in topk:\n",
        "        correct_k = correct[:k].reshape(-1).float().sum(0)\n",
        "        res.append(correct_k.mul_(1/ batch_size))\n",
        "    return res"
      ],
      "execution_count": null,
      "outputs": []
    },
    {
      "cell_type": "markdown",
      "metadata": {
        "id": "EtogNjuaCr8T"
      },
      "source": [
        "Save CheckPoint"
      ]
    },
    {
      "cell_type": "code",
      "metadata": {
        "id": "KVVB7vffFCjl"
      },
      "source": [
        "def save_checkpoint(model, save_folder, name, epoch, opt, best_model=False):\n",
        "\n",
        "    if best_model:\n",
        "        save_path = \"{}/{}/best_model.th\".format(\n",
        "            save_folder, name)\n",
        "    else:\n",
        "        save_path = \"{}/{}/epoch_{}.th\".format(save_folder,\n",
        "                                               name, epoch)\n",
        "\n",
        "    if not os.path.exists(save_folder + \"/\" + name):\n",
        "        os.makedirs(save_folder + \"/\" + name)\n",
        "\n",
        "    print(\"SAVE MODEL to\", save_path)\n",
        "\n",
        "\n",
        "    param_dict = {\n",
        "        'epoch': epoch,\n",
        "        'model_state_dict': model.state_dict(),\n",
        "        'optimizer_state_dict': opt.state_dict()}\n",
        "        \n",
        "\n",
        "    torch.save(param_dict, save_path)"
      ],
      "execution_count": null,
      "outputs": []
    },
    {
      "cell_type": "markdown",
      "metadata": {
        "id": "YoJ1RvQjC9h2"
      },
      "source": [
        "Load CheckPoint"
      ]
    },
    {
      "cell_type": "code",
      "metadata": {
        "id": "_E5KkDFr8wOk"
      },
      "source": [
        "def load_checkpoint(model, save_folder, opt,epoch,device ,best_model=False):\n",
        "      if best_model:\n",
        "        load_path = \"{}/best_model.th\".format(save_folder)\n",
        "      else:\n",
        "        load_path = \"{}/epoch_{}.th\".format(save_folder,\n",
        "                                                epoch)\n",
        "\n",
        "      checkpoint = torch.load(load_path,map_location=device)\n",
        "\n",
        "      epoch = checkpoint['epoch']\n",
        "      \n",
        "\n",
        "      model =model # code for model init\n",
        "      model.load_state_dict(checkpoint['model_state_dict'])\n",
        "      model=model.to(device)\n",
        "\n",
        "      opt =opt #code for opt init\n",
        "      opt.load_state_dict(checkpoint['optimizer_state_dict'])\n",
        "      #opt.param_groups[0]['lr'] = checkpoint['optimizer_params']['lr']\n",
        "      return model, opt, epoch   \n"
      ],
      "execution_count": null,
      "outputs": []
    },
    {
      "cell_type": "markdown",
      "metadata": {
        "id": "_ly7L9sgDVbx"
      },
      "source": [
        "Train"
      ]
    },
    {
      "cell_type": "code",
      "metadata": {
        "id": "Z03wnqz5l1kP"
      },
      "source": [
        "iter = 0\n",
        "num_epochs=20\n",
        "lst_epoch=1\n",
        "for epoch in range(lst_epoch,lst_epoch+num_epochs):\n",
        "    print(\"epoch: {}\".format(epoch))\n",
        "    #print('\\n')\n",
        "    cnt=0\n",
        "    sum1=0\n",
        "    correct = 0\n",
        "    correct_1 = 0\n",
        "    correct_3 =0\n",
        "    correct_5=0\n",
        "    total = 0\n",
        "    model.train()\n",
        "    for i, (dat,labels) in enumerate(train_loader):\n",
        "        # Load images as Variable\n",
        "        cnt+=1\n",
        "        dat=dat.to(device)\n",
        "        labels=labels.to(device)\n",
        "        \n",
        "        with torch.set_grad_enabled(True):\n",
        "           dat = dat.requires_grad_()\n",
        "\n",
        "           optimizer1.zero_grad()\n",
        "           outputs = model(dat)\n",
        "            \n",
        "           loss = criterion1(outputs, labels.long())\n",
        "           loss.backward()\n",
        "           loss1=loss.item()\n",
        "           optimizer1.step()\n",
        "           _, predicted = torch.max(outputs.data, 1)\n",
        "           r=accuracy_fn(outputs.data,labels.data)\n",
        "           correct_1+=r[0]\n",
        "           #correct_3+=r[1]\n",
        "           #correct_5+=r[2]\n",
        "          # Total number of labels\n",
        "           total += labels.size(0)\n",
        "           sum1 += loss1\n",
        "          # Total correct predictions\n",
        "           correct += (predicted == labels.long()).sum()\n",
        "            \n",
        "    \n",
        "           writer.add_scalar(\"Loss/iter\", loss1, iter)\n",
        "           writer.flush()\n",
        "           if(iter%1000==0):\n",
        "              #pass\n",
        "              print(loss1)\n",
        "           \n",
        "\n",
        "           iter += 1\n",
        "    if(epoch%1==0):\n",
        "     scheduler.step()\n",
        "    if(epoch%3==0): \n",
        "     save_checkpoint(model,'/content/drive/MyDrive/Model_files','dim_reduction/classifier',epoch,optimizer1)\n",
        "    accuracy = torch.true_divide(correct ,total)\n",
        "    accuracy1 = torch.true_divide(correct_1 ,total).mul(labels.size(0))  \n",
        "    print('Acc1:',accuracy1)\n",
        "    print('Epoch: {}. Loss: {}. Accuracy: {}'.format(epoch, sum1/cnt, accuracy))\n",
        "    if epoch % 1 == 0:\n",
        "      cnt=0\n",
        "      sum1=0\n",
        "      correct_1 = 0\n",
        "      correct_3 =0\n",
        "      correct_5=0\n",
        "      total = 0\n",
        "      model.eval()\n",
        "      for dat, labels in test_loader:\n",
        "          dat=dat.to(device)\n",
        "          labels=labels.to(device)\n",
        "          cnt+=1\n",
        "          \n",
        "          # Load images to a Torch Variable\n",
        "          dat = dat.requires_grad_()\n",
        "  \n",
        "          # Forward pass only to get logits/output\n",
        "          outputs = model(dat)\n",
        "          loss = criterion1(outputs, labels.long())\n",
        "          \n",
        "          loss1=loss.item()\n",
        "          #print(confidence)\n",
        "          #loss_l=confidence=\n",
        "          \n",
        "          \n",
        "\n",
        "          # Get predictions from the maximum value\n",
        "        \n",
        "          \n",
        "          # Total number of labels\n",
        "          total += torch.tensor(1)\n",
        "          sum1 += loss1\n",
        "          r=accuracy_fn(outputs.data,labels.data)\n",
        "          correct_1+=r[0]\n",
        "          #correct_3+=r[1]\n",
        "          #correct_5+=r[2]\n",
        "      #print(labels.size(0))\n",
        "      #a_1 = torch.true_divide(correct_1 ,total).mul(labels.size(0))  \n",
        "      a_1 = torch.true_divide(correct_1 ,total)\n",
        "     # a_1 = correct_1\n",
        "      #a_3 = torch.true_divide(correct_3 ,total).mul(labels.size(0))  \n",
        "      #a_5 = torch.true_divide(correct_5 ,total).mul(labels.size(0))  \n",
        "\n",
        "      writer.add_scalar(\"Val_Loss/iter\", sum1/cnt, iter)\n",
        "      writer.add_scalar(\"accuracy_1/iter\", a_1, iter)\n",
        "      #writer.add_scalar(\"accuracy_3/iter\", a_3, iter)\n",
        "      #writer.add_scalar(\"accuracy_5/iter\", a_5, iter)\n",
        "\n",
        "      writer.flush()\n",
        "      # Print Loss\n",
        "      print('Iteration: {}. Val_Loss: {}.  Accuracy_1:{}'.format(iter, sum1/cnt, a_1))\n",
        "      # Iterate through test dataset\n",
        "      #df1=pd.read_csv('/content/merged_data/test_challenge.csv',header=0)\n",
        "      '''for i, (dat, labels) in enumerate(test_loader):\n",
        "        dat=dat.to(device)\n",
        "        labels=labels.to(device)\n",
        "        cnt+=1\n",
        "        \n",
        "        # Load images to a Torch Variable\n",
        "        dat = dat.requires_grad_()\n",
        "\n",
        "        # Forward pass only to get logits/output\n",
        "        outputs = model(dat)\n",
        "        \n",
        "        #print(confidence)\n",
        "        #loss_l=confidence=\n",
        "        \n",
        "        \n",
        "\n",
        "        # Get predictions from the maximum value\n",
        "        _, predicted = torch.max(outputs.data, 1)\n",
        "        y=get_key(predicted)\n",
        "        #print(y)\n",
        "        df1.loc[i, '1']=y\n",
        "      df1.to_csv('output_'+str(epoch)+'.csv',index=False)\n",
        "      print('output_saved')'''"
      ],
      "execution_count": null,
      "outputs": []
    },
    {
      "cell_type": "code",
      "metadata": {
        "id": "rpCUfN2OUA7-"
      },
      "source": [
        "model,optimizer1,lst_epoch=load_checkpoint(model,'/content',optimizer1,21,device)\n"
      ],
      "execution_count": null,
      "outputs": []
    },
    {
      "cell_type": "code",
      "metadata": {
        "id": "PMcRsUZ2l-9_"
      },
      "source": [
        "from sklearn.metrics import confusion_matrix, roc_curve, auc\n",
        "from scipy import interp\n",
        "import matplotlib.pyplot as plt\n",
        "\n",
        "def print_roc_curve(y_test, y_score, n_classes, figsize = (8, 6)):\n",
        "    lw = 2\n",
        "    # Compute ROC curve and ROC area for each class\n",
        "    fpr = dict()\n",
        "    tpr = dict()\n",
        "    roc_auc = dict()\n",
        "    for i in range(n_classes):\n",
        "        fpr[i], tpr[i], _ = roc_curve(y_test[:, i], y_score[:, i])\n",
        "        roc_auc[i] = auc(fpr[i], tpr[i])\n",
        "    # Compute micro-average ROC curve and ROC area\n",
        "    fpr[\"micro\"], tpr[\"micro\"], _ = roc_curve(y_test.ravel(), y_score.ravel())\n",
        "    roc_auc[\"micro\"] = auc(fpr[\"micro\"], tpr[\"micro\"])\n",
        "    # First aggregate all false positive rates\n",
        "    all_fpr = np.unique(np.concatenate([fpr[i] for i in range(n_classes)]))\n",
        "    # Then interpolate all ROC curves at this points\n",
        "    mean_tpr = np.zeros_like(all_fpr)\n",
        "    for i in range(n_classes):\n",
        "        mean_tpr += interp(all_fpr, fpr[i], tpr[i])\n",
        "\n",
        "    # Finally average it and compute AUC\n",
        "    mean_tpr /= n_classes\n",
        "\n",
        "    fpr[\"macro\"] = all_fpr\n",
        "    tpr[\"macro\"] = mean_tpr\n",
        "    roc_auc[\"macro\"] = auc(fpr[\"macro\"], tpr[\"macro\"])\n",
        "    fig = plt.figure(figsize=figsize)\n",
        "    \"\"\"\n",
        "    plt.plot(fpr[\"micro\"], tpr[\"micro\"],\n",
        "            label='micro-average ROC curve (area = {0:0.2f})'\n",
        "                    ''.format(roc_auc[\"micro\"]),\n",
        "            color='deeppink', linestyle=':', linewidth=4)\n",
        "    \"\"\"\n",
        "    plt.plot(fpr[\"macro\"], tpr[\"macro\"],\n",
        "            label='macro-average ROC curve (area = {0:0.2f})'\n",
        "                ''.format(roc_auc[\"macro\"]),\n",
        "            color='navy', linestyle=':', linewidth=4)\n",
        "    plt.plot([0, 1], [0, 1], 'k--', lw=lw)\n",
        "    plt.xlim([0.0, 1.0])\n",
        "    plt.ylim([0.0, 1.05])\n",
        "    plt.xlabel('False Positive Rate')\n",
        "    plt.ylabel('True Positive Rate')\n",
        "    #plt.title('Some extension of Receiver operating characteristic to multi-class')\n",
        "    plt.legend(loc=\"lower right\")\n",
        "    return "
      ],
      "execution_count": null,
      "outputs": []
    },
    {
      "cell_type": "markdown",
      "metadata": {
        "id": "WSWz1z2wDbFk"
      },
      "source": [
        "Roc curve"
      ]
    },
    {
      "cell_type": "code",
      "metadata": {
        "id": "6DajQ5jdg0WP"
      },
      "source": [
        "y_test1 = []\n",
        "y_score1 = []\n",
        "\n",
        "for i, (dat,labels) in enumerate(test_loader):\n",
        "        dat=dat.to(device)\n",
        "        labels=labels.to(device)\n",
        "        y_test1.append(labels)\n",
        "        y_test = torch.cat(y_test1, dim=0)\n",
        "        outputs = model(dat)\n",
        "        y_score1.append(outputs)\n",
        "        y_score = torch.cat(y_score1, dim=0)"
      ],
      "execution_count": null,
      "outputs": []
    },
    {
      "cell_type": "code",
      "metadata": {
        "id": "PZrrRk6ds6XN"
      },
      "source": [
        "a=y_test.detach().cpu().numpy()\n",
        "b = np.zeros((a.size, a.max()+1))\n",
        "b[np.arange(a.size),a] = 1"
      ],
      "execution_count": null,
      "outputs": []
    },
    {
      "cell_type": "code",
      "metadata": {
        "colab": {
          "base_uri": "https://localhost:8080/",
          "height": 425
        },
        "id": "92WXIfderTj7",
        "outputId": "033f1082-5a45-46a1-b860-5fd9403bd465"
      },
      "source": [
        "print_roc_curve(b ,y_score.detach().cpu().numpy(),2)"
      ],
      "execution_count": null,
      "outputs": [
        {
          "output_type": "stream",
          "text": [
            "/usr/local/lib/python3.7/dist-packages/ipykernel_launcher.py:22: DeprecationWarning: scipy.interp is deprecated and will be removed in SciPy 2.0.0, use numpy.interp instead\n"
          ],
          "name": "stderr"
        },
        {
          "output_type": "display_data",
          "data": {
            "image/png": "[encoded data removed]",
            "text/plain": [
              "<Figure size 576x432 with 1 Axes>"
            ]
          },
          "metadata": {
            "tags": [],
            "needs_background": "light"
          }
        }
      ]
    },
    {
      "cell_type": "code",
      "metadata": {
        "id": "O7fjqSLsU4BA"
      },
      "source": [
        ""
      ],
      "execution_count": null,
      "outputs": []
    }
  ]
}