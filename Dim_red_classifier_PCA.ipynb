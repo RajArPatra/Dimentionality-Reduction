{
  "nbformat": 4,
  "nbformat_minor": 0,
  "metadata": {
    "colab": {
      "name": "Dim_red_classifier_PCA.ipynb",
      "provenance": [],
      "collapsed_sections": [],
      "mount_file_id": "1mzUzHxILflTPJmCDAjcIbJC8kaw_uE7V",
      "authorship_tag": "ABX9TyNNiuzKW6Figzuxlcz5uEY3",
      "include_colab_link": true
    },
    "kernelspec": {
      "name": "python3",
      "display_name": "Python 3"
    },
    "language_info": {
      "name": "python"
    },
    "accelerator": "GPU"
  },
  "cells": [
    {
      "cell_type": "markdown",
      "metadata": {
        "id": "view-in-github",
        "colab_type": "text"
      },
      "source": [
        "<a href=\"https://colab.research.google.com/github/RajArPatra/Dimentionality-Reduction/blob/main/Dim_red_classifier_PCA.ipynb\" target=\"_parent\"><img src=\"https://colab.research.google.com/assets/colab-badge.svg\" alt=\"Open In Colab\"/></a>"
      ]
    },
    {
      "cell_type": "markdown",
      "metadata": {
        "id": "syWYWjiYAl-r"
      },
      "source": [
        "Import Libraries"
      ]
    },
    {
      "cell_type": "code",
      "metadata": {
        "id": "vv7KWMI89AXq"
      },
      "source": [
        "from sklearn.preprocessing import StandardScaler,MinMaxScaler\n",
        "import pandas as pd\n",
        "import torchvision\n",
        "import os\n",
        "import numpy as np\n",
        "from skimage import io,transform as ts\n",
        "import torch\n",
        "from torchvision import transforms\n",
        "from torch.utils.data import Dataset\n",
        "import torch\n",
        "import torch.nn as nn\n",
        "import torch.nn.functional as F\n",
        "from PIL import Image\n",
        "import imgaug as ia\n",
        "import imgaug.augmenters as iaa\n",
        "from sklearn.decomposition import PCA\n",
        "from sklearn.manifold import TSNE\n",
        "#from bhtsne import tsne\n",
        "from torch.autograd import Variable"
      ],
      "execution_count": 2,
      "outputs": []
    },
    {
      "cell_type": "code",
      "metadata": {
        "id": "V-bmGSx39DZv"
      },
      "source": [
        "from torch.utils.tensorboard import SummaryWriter\n",
        "writer = SummaryWriter()"
      ],
      "execution_count": 3,
      "outputs": []
    },
    {
      "cell_type": "markdown",
      "metadata": {
        "id": "sINGpnNkBeLT"
      },
      "source": [
        "Dataset and Dataloader"
      ]
    },
    {
      "cell_type": "code",
      "metadata": {
        "id": "Fjo_viUT9MNi"
      },
      "source": [
        "class data1(Dataset):\n",
        "    def __init__(self, train=True,device='cpu'):\n",
        "      self.train=train\n",
        "      self.scaler=MinMaxScaler()\n",
        "      \n",
        "      #self.scaler.fit(np.load('train_num.npy',allow_pickle=True)[:,-1].reshape(-1, 1))\n",
        "      self.device=device\n",
        "      #x_test = np.load(f,allow_pickle=True)\n",
        "      #y_test= np.load('/content/y_test_pred.npy',allow_pickle=True) \n",
        "      #z=int(0.9*X_train.shape[0])\n",
        "      \n",
        "     \n",
        "      if train:\n",
        "        self.data= np.load('train_pca.npy',allow_pickle=True)\n",
        "        self.data_x=self.data[:,1:]\n",
        "        \n",
        "        self.data_y=self.data[:,0]\n",
        "      \n",
        "      else:\n",
        "        self.data= np.load('test_pca.npy',allow_pickle=True)\n",
        "        self.data_x=self.data[:,1:]\n",
        "        \n",
        "        self.data_y=self.data[:,0]\n",
        "      \n",
        "     \n",
        "      \n",
        "    def __getitem__(self, idx):\n",
        "     \n",
        "      #X=scaler.fit_transform(X.reshape(1, -1))\n",
        "      X=torch.from_numpy(self.data_x[idx]).float()\n",
        "      \n",
        "      \n",
        "      \n",
        "      '''if self.train:\n",
        "        y=torch.tensor(self.map[int(self.data_y[idx])])\n",
        "      else:'''\n",
        "      \n",
        "      y=torch.tensor(self.data_y[idx]).long()\n",
        "      \n",
        "     \n",
        "      return X.to(self.device), y.to(self.device)\n",
        "      \n",
        "    def __len__(self):\n",
        "      \n",
        "      return self.data.shape[0]"
      ],
      "execution_count": 3,
      "outputs": []
    },
    {
      "cell_type": "code",
      "metadata": {
        "id": "P355x3GC9QDg",
        "colab": {
          "base_uri": "https://localhost:8080/",
          "height": 35
        },
        "outputId": "827978cf-8ff7-46c6-fc4b-a52290f8c00a"
      },
      "source": [
        "if torch.cuda.is_available():\n",
        "  device='cuda'\n",
        "else :\n",
        "   device='cpu'\n",
        "device"
      ],
      "execution_count": 4,
      "outputs": [
        {
          "output_type": "execute_result",
          "data": {
            "application/vnd.google.colaboratory.intrinsic+json": {
              "type": "string"
            },
            "text/plain": [
              "'cuda'"
            ]
          },
          "metadata": {
            "tags": []
          },
          "execution_count": 4
        }
      ]
    },
    {
      "cell_type": "code",
      "metadata": {
        "id": "XI4V8O8T9S0X"
      },
      "source": [
        "train_dataset=data1(train=True,device=device)\n",
        "test_dataset=data1(train=False,device=device)\n",
        "train_loader=torch.utils.data.DataLoader(dataset=train_dataset, \n",
        "                                           batch_size=256,\n",
        "                                           shuffle=True)\n",
        "test_loader=torch.utils.data.DataLoader(dataset=test_dataset, \n",
        "                                           batch_size=256, \n",
        "                                           shuffle=False)"
      ],
      "execution_count": 6,
      "outputs": []
    },
    {
      "cell_type": "markdown",
      "metadata": {
        "id": "vtUR1NrqBiKn"
      },
      "source": [
        "Model Architecture"
      ]
    },
    {
      "cell_type": "code",
      "metadata": {
        "id": "tH3yQPpA9YZl"
      },
      "source": [
        "import torch\n",
        "from torch import nn\n",
        "\n",
        "import torch\n",
        "from torch import nn\n",
        "import torch.nn.functional as F\n",
        "\n",
        "\n",
        "class Conv1dSamePadding(nn.Conv1d):\n",
        "\n",
        "    def forward(self, input):\n",
        "        return conv1d_same_padding(input, self.weight, self.bias, self.stride,\n",
        "                                   self.dilation, self.groups)\n",
        "\n",
        "\n",
        "def conv1d_same_padding(input, weight, bias, stride, dilation, groups):\n",
        "    # stride and dilation are expected to be tuples.\n",
        "    kernel, dilation, stride = weight.size(2), dilation[0], stride[0]\n",
        "    l_out = l_in = input.size(2)\n",
        "    padding = (((l_out - 1) * stride) - l_in + (dilation * (kernel - 1)) + 1)\n",
        "    if padding % 2 != 0:\n",
        "        input = F.pad(input, [0, 1])\n",
        "\n",
        "    return F.conv1d(input=input, weight=weight, bias=bias, stride=stride,\n",
        "                    padding=padding // 2,\n",
        "                    dilation=dilation, groups=groups)\n",
        "\n",
        "\n",
        "class ConvBlock(nn.Module):\n",
        "\n",
        "    def __init__(self, in_channels: int, out_channels: int, kernel_size: int,\n",
        "                 stride: int) -> None:\n",
        "        super().__init__()\n",
        "\n",
        "        self.layers = nn.Sequential(\n",
        "            Conv1dSamePadding(in_channels=in_channels,\n",
        "                              out_channels=out_channels,\n",
        "                              kernel_size=kernel_size,\n",
        "                              stride=stride),\n",
        "            nn.BatchNorm1d(num_features=out_channels),\n",
        "            nn.ReLU(),\n",
        "        )\n",
        "\n",
        "    def forward(self, x: torch.Tensor) -> torch.Tensor:  # type: ignore\n",
        "\n",
        "        return self.layers(x)\n",
        "\n",
        "\n",
        "\n",
        "\n",
        "\n",
        "\n",
        "\n",
        "\n",
        "\n",
        "class ResNetBaseline(nn.Module):\n",
        "\n",
        "\n",
        "    def __init__(self, in_channels: int, mid_channels: int = 64,\n",
        "                 num_pred_classes: int = 1) -> None:\n",
        "        super().__init__()\n",
        "\n",
        "        # for easier saving and loading\n",
        "        self.input_args = {\n",
        "            'in_channels': in_channels,\n",
        "            'num_pred_classes': num_pred_classes\n",
        "        }\n",
        "\n",
        "        self.layers = nn.Sequential(*[\n",
        "            ResNetBlock(in_channels=in_channels, out_channels=mid_channels),\n",
        "            ResNetBlock(in_channels=mid_channels, out_channels=mid_channels * 2),\n",
        "            ResNetBlock(in_channels=mid_channels * 2, out_channels=mid_channels * 2),\n",
        "\n",
        "        ])\n",
        "        self.final = nn.Linear(mid_channels * 2, num_pred_classes)\n",
        "\n",
        "    def forward(self, x: torch.Tensor) -> torch.Tensor:  # type: ignore\n",
        "        x = self.layers(x.unsqueeze(2))\n",
        "        return self.final(x.mean(dim=-1))\n",
        "\n",
        "\n",
        "class ResNetBlock(nn.Module):\n",
        "\n",
        "    def __init__(self, in_channels: int, out_channels: int) -> None:\n",
        "        super().__init__()\n",
        "\n",
        "        channels = [in_channels, out_channels, out_channels, out_channels]\n",
        "        kernel_sizes = [8, 5, 3]\n",
        "\n",
        "        self.layers = nn.Sequential(*[\n",
        "            ConvBlock(in_channels=channels[i], out_channels=channels[i + 1],\n",
        "                      kernel_size=kernel_sizes[i], stride=1) for i in range(len(kernel_sizes))\n",
        "        ])\n",
        "\n",
        "        self.match_channels = False\n",
        "        if in_channels != out_channels:\n",
        "            self.match_channels = True\n",
        "            self.residual = nn.Sequential(*[\n",
        "                Conv1dSamePadding(in_channels=in_channels, out_channels=out_channels,\n",
        "                                  kernel_size=1, stride=1),\n",
        "                nn.BatchNorm1d(num_features=out_channels)\n",
        "            ])\n",
        "\n",
        "    def forward(self, x: torch.Tensor) -> torch.Tensor:  # type: ignore\n",
        "\n",
        "        if self.match_channels:\n",
        "            return self.layers(x) + self.residual(x)\n",
        "        return self.layers(x)"
      ],
      "execution_count": 7,
      "outputs": []
    },
    {
      "cell_type": "markdown",
      "metadata": {
        "id": "9qqe--OtBsqn"
      },
      "source": [
        "Helper function to Initialise weight"
      ]
    },
    {
      "cell_type": "code",
      "metadata": {
        "id": "5edXoGOadL00"
      },
      "source": [
        "from torch.nn import init\n",
        "def init_weights(net, init_type='normal', gain=0.02):\n",
        "    def init_func(m):\n",
        "        classname = m.__class__.__name__\n",
        "        if hasattr(m, 'weight') and (classname.find('Conv') != -1 or classname.find('Linear') != -1):\n",
        "            if init_type == 'normal':\n",
        "                init.normal_(m.weight.data, 0.0, gain)\n",
        "            elif init_type == 'xavier':\n",
        "                init.xavier_normal_(m.weight.data, gain=gain)\n",
        "            elif init_type == 'kaiming':\n",
        "                init.kaiming_normal_(m.weight.data, a=0, mode='fan_in')\n",
        "            elif init_type == 'orthogonal':\n",
        "                init.orthogonal_(m.weight.data, gain=gain)\n",
        "            else:\n",
        "                raise NotImplementedError('initialization method [%s] is not implemented' % init_type)\n",
        "            if hasattr(m, 'bias') and m.bias is not None:\n",
        "                init.constant_(m.bias.data, 0.0)\n",
        "        elif classname.find('BatchNorm2d') != -1:\n",
        "            init.normal_(m.weight.data, 1.0, gain)\n",
        "            init.constant_(m.bias.data, 0.0)\n",
        "\n",
        "    print('initialize network with %s' % init_type)\n",
        "    net.apply(init_func)"
      ],
      "execution_count": 8,
      "outputs": []
    },
    {
      "cell_type": "code",
      "metadata": {
        "id": "z-HD8Eq69cdT",
        "colab": {
          "base_uri": "https://localhost:8080/"
        },
        "outputId": "0a865bcd-1ef1-4a44-e50a-a329fe97c6f2"
      },
      "source": [
        "model=ResNetBaseline(in_channels=3,num_pred_classes=2)\n",
        "model=model.to(device)\n",
        "init_weights(model,'kaiming')\n",
        "learning_rate = 0.001\n",
        "criterion1 = nn.CrossEntropyLoss()  \n",
        "#optimizer1 = torch.optim.SGD(model.parameters(), lr=learning_rate,momentum=0.9,weight_decay=0.0005,nesterov=True)  \n",
        "optimizer1=torch.optim.Adam(model.parameters(), lr=learning_rate)\n",
        "scheduler=torch.optim.lr_scheduler.CosineAnnealingLR(optimizer1, T_max=10, eta_min=0)\n"
      ],
      "execution_count": 9,
      "outputs": [
        {
          "output_type": "stream",
          "text": [
            "initialize network with kaiming\n"
          ],
          "name": "stdout"
        }
      ]
    },
    {
      "cell_type": "code",
      "metadata": {
        "id": "y7jKkOSxErkU"
      },
      "source": [
        "def accuracy_fn(output, target, topk=(1,)):\n",
        "    \"\"\"Computes the precision@k for the specified values of k\"\"\"\n",
        "    maxk = max(topk)\n",
        "    batch_size = target.size(0)\n",
        "\n",
        "    _, pred = output.topk(maxk, 1, True, True)\n",
        "    pred = pred.t()\n",
        "    correct = pred.eq(target.view(1, -1).expand_as(pred))\n",
        "\n",
        "    res = []\n",
        "    for k in topk:\n",
        "        correct_k = correct[:k].reshape(-1).float().sum(0)\n",
        "        res.append(correct_k.mul_(1/ batch_size))\n",
        "    return res"
      ],
      "execution_count": 10,
      "outputs": []
    },
    {
      "cell_type": "markdown",
      "metadata": {
        "id": "EtogNjuaCr8T"
      },
      "source": [
        "Save CheckPoint"
      ]
    },
    {
      "cell_type": "code",
      "metadata": {
        "id": "HcdlnFcLC3YP"
      },
      "source": [
        "def save_checkpoint(model, save_folder, name, epoch, opt, best_model=False):\n",
        "\n",
        "    if best_model:\n",
        "        save_path = \"{}/{}/best_model.th\".format(\n",
        "            save_folder, name)\n",
        "    else:\n",
        "        save_path = \"{}/{}/epoch_{}.th\".format(save_folder,\n",
        "                                               name, epoch)\n",
        "\n",
        "    if not os.path.exists(save_folder + \"/\" + name):\n",
        "        os.makedirs(save_folder + \"/\" + name)\n",
        "\n",
        "    print(\"SAVE MODEL to\", save_path)\n",
        "\n",
        "\n",
        "    param_dict = {\n",
        "        'epoch': epoch,\n",
        "        'model_state_dict': model.state_dict(),\n",
        "        'optimizer_state_dict': opt.state_dict()}"
      ],
      "execution_count": null,
      "outputs": []
    },
    {
      "cell_type": "markdown",
      "metadata": {
        "id": "YoJ1RvQjC9h2"
      },
      "source": [
        "Load CheckPoint"
      ]
    },
    {
      "cell_type": "code",
      "metadata": {
        "id": "pseWfh1GTPEi"
      },
      "source": [
        "def load_checkpoint(model, save_folder, model_name, opt,epoch,device ,best_model=False):\n",
        "      if best_model:\n",
        "        load_path = \"{}/model_{}/best_model.th\".format(save_folder, model_name)\n",
        "      else:\n",
        "        load_path = \"{}/{}/epoch_{}.th\".format(save_folder,\n",
        "                                                model_name, epoch)\n",
        "\n",
        "      checkpoint = torch.load(load_path)\n",
        "\n",
        "      epoch = checkpoint['epoch']\n",
        "      \n",
        "\n",
        "      model =model # code for model init\n",
        "      model.load_state_dict(checkpoint['model_state_dict'])\n",
        "      model=model.to(device)\n",
        "\n",
        "      opt =opt #code for opt init\n",
        "      opt.load_state_dict(checkpoint['optimizer_state_dict'])\n",
        "      #opt.param_groups[0]['lr'] = checkpoint['optimizer_params']['lr']\n",
        "      return model, opt, epoch   \n"
      ],
      "execution_count": 11,
      "outputs": []
    },
    {
      "cell_type": "markdown",
      "metadata": {
        "id": "_ly7L9sgDVbx"
      },
      "source": [
        "Train"
      ]
    },
    {
      "cell_type": "code",
      "metadata": {
        "colab": {
          "base_uri": "https://localhost:8080/"
        },
        "id": "n_YCe5TMXTYn",
        "outputId": "7a323f70-6db5-41cb-bc56-22034a258b69"
      },
      "source": [
        "iter = 0\n",
        "num_epochs=20\n",
        "lst_epoch=1\n",
        "for epoch in range(lst_epoch,lst_epoch+num_epochs):\n",
        "    print(\"epoch: {}\".format(epoch))\n",
        "    #print('\\n')\n",
        "    cnt=0\n",
        "    sum1=0\n",
        "    correct = 0\n",
        "    correct_1 = 0\n",
        "    correct_3 =0\n",
        "    correct_5=0\n",
        "    total = 0\n",
        "    model.train()\n",
        "    for i, (dat,labels) in enumerate(train_loader):\n",
        "        # Load images as Variable\n",
        "        cnt+=1\n",
        "        dat=dat.to(device)\n",
        "        labels=labels.to(device)\n",
        "        \n",
        "        with torch.set_grad_enabled(True):\n",
        "           dat = dat.requires_grad_()\n",
        "\n",
        "           optimizer1.zero_grad()\n",
        "           outputs = model(dat)\n",
        "            \n",
        "           loss = criterion1(outputs, labels.long())\n",
        "           loss.backward()\n",
        "           loss1=loss.item()\n",
        "           optimizer1.step()\n",
        "           _, predicted = torch.max(outputs.data, 1)\n",
        "           r=accuracy_fn(outputs.data,labels.data)\n",
        "           correct_1+=r[0]\n",
        "           #correct_3+=r[1]\n",
        "           #correct_5+=r[2]\n",
        "          # Total number of labels\n",
        "           total += labels.size(0)\n",
        "           sum1 += loss1\n",
        "          # Total correct predictions\n",
        "           correct += (predicted == labels.long()).sum()\n",
        "            \n",
        "    \n",
        "           writer.add_scalar(\"Loss/iter\", loss1, iter)\n",
        "           writer.flush()\n",
        "           if(iter%1000==0):\n",
        "              #pass\n",
        "              print(loss1)\n",
        "           \n",
        "\n",
        "           iter += 1\n",
        "    if(epoch%3==0):\n",
        "      save_checkpoint(model,'/content/drive/MyDrive/Model_files','dim_reduction/classifier/pca',epoch,optimizer1)\n",
        "    if(epoch%1==0):\n",
        "     scheduler.step()\n",
        "    accuracy = torch.true_divide(correct ,total)\n",
        "    accuracy1 = torch.true_divide(correct_1 ,total).mul(labels.size(0))  \n",
        "    print('Acc1:',accuracy1)\n",
        "    print('Epoch: {}. Loss: {}. Accuracy: {}'.format(epoch, sum1/cnt, accuracy))\n",
        "    if epoch % 1 == 0:\n",
        "      cnt=0\n",
        "      sum1=0\n",
        "      correct_1 = 0\n",
        "      correct_3 =0\n",
        "      correct_5=0\n",
        "      total = 0\n",
        "      model.eval()\n",
        "      for dat, labels in test_loader:\n",
        "          dat=dat.to(device)\n",
        "          labels=labels.to(device)\n",
        "          cnt+=1\n",
        "          \n",
        "          # Load images to a Torch Variable\n",
        "          dat = dat.requires_grad_()\n",
        "  \n",
        "          # Forward pass only to get logits/output\n",
        "          outputs = model(dat)\n",
        "          loss = criterion1(outputs, labels.long())\n",
        "          \n",
        "          loss1=loss.item()\n",
        "          #print(confidence)\n",
        "          #loss_l=confidence=\n",
        "          \n",
        "          \n",
        "\n",
        "          # Get predictions from the maximum value\n",
        "        \n",
        "          \n",
        "          # Total number of labels\n",
        "          total += torch.tensor(1)\n",
        "          sum1 += loss1\n",
        "          r=accuracy_fn(outputs.data,labels.data)\n",
        "          correct_1+=r[0]\n",
        "          #correct_3+=r[1]\n",
        "          #correct_5+=r[2]\n",
        "      #print(labels.size(0))\n",
        "      #a_1 = torch.true_divide(correct_1 ,total).mul(labels.size(0))  \n",
        "      a_1 = torch.true_divide(correct_1 ,total)\n",
        "     # a_1 = correct_1\n",
        "      #a_3 = torch.true_divide(correct_3 ,total).mul(labels.size(0))  \n",
        "      #a_5 = torch.true_divide(correct_5 ,total).mul(labels.size(0))  \n",
        "\n",
        "      writer.add_scalar(\"Val_Loss/iter\", sum1/cnt, iter)\n",
        "      writer.add_scalar(\"accuracy_1/iter\", a_1, iter)\n",
        "      #writer.add_scalar(\"accuracy_3/iter\", a_3, iter)\n",
        "      #writer.add_scalar(\"accuracy_5/iter\", a_5, iter)\n",
        "\n",
        "      writer.flush()\n",
        "      # Print Loss\n",
        "      print('Iteration: {}. Val_Loss: {}.  Accuracy_1:{}'.format(iter, sum1/cnt, a_1))\n",
        "      # Iterate through test dataset\n",
        "      #df1=pd.read_csv('/content/merged_data/test_challenge.csv',header=0)\n",
        "      '''for i, (dat, labels) in enumerate(test_loader):\n",
        "        dat=dat.to(device)\n",
        "        labels=labels.to(device)\n",
        "        cnt+=1\n",
        "        \n",
        "        # Load images to a Torch Variable\n",
        "        dat = dat.requires_grad_()\n",
        "\n",
        "        # Forward pass only to get logits/output\n",
        "        outputs = model(dat)\n",
        "        \n",
        "        #print(confidence)\n",
        "        #loss_l=confidence=\n",
        "        \n",
        "        \n",
        "\n",
        "        # Get predictions from the maximum value\n",
        "        _, predicted = torch.max(outputs.data, 1)\n",
        "        y=get_key(predicted)\n",
        "        #print(y)\n",
        "        df1.loc[i, '1']=y\n",
        "      df1.to_csv('output_'+str(epoch)+'.csv',index=False)\n",
        "      print('output_saved')'''"
      ],
      "execution_count": null,
      "outputs": [
        {
          "output_type": "stream",
          "text": [
            "epoch: 1\n",
            "0.9530786275863647\n",
            "0.6821597218513489\n",
            "0.7197751402854919\n",
            "0.6727895736694336\n",
            "0.6768007874488831\n",
            "0.6807894706726074\n",
            "0.7015184164047241\n",
            "0.6639111042022705\n",
            "0.6510953307151794\n",
            "0.6554569005966187\n",
            "0.667686939239502\n",
            "0.6685197353363037\n",
            "0.6822859048843384\n",
            "0.6707824468612671\n",
            "0.6949492692947388\n",
            "0.6960883736610413\n",
            "0.6652734875679016\n",
            "0.6724928617477417\n",
            "0.6655018329620361\n",
            "0.6609237790107727\n",
            "0.6926512718200684\n",
            "0.6631169319152832\n",
            "Acc1: tensor(0.2148, device='cuda:0')\n",
            "Epoch: 1. Loss: 0.6756204990084459. Accuracy: 0.5787991881370544\n",
            "Iteration: 21485. Val_Loss: 0.6734759330810519.  Accuracy_1:0.5826969146728516\n",
            "epoch: 2\n",
            "0.6629194021224976\n",
            "0.6755834817886353\n",
            "0.6718047857284546\n",
            "0.6676153540611267\n",
            "0.6644377708435059\n",
            "0.6691687703132629\n",
            "0.6620501279830933\n",
            "0.6791996955871582\n",
            "0.6603966355323792\n",
            "0.692258358001709\n",
            "0.6984338164329529\n",
            "0.6654573678970337\n",
            "0.6818608641624451\n",
            "0.647189199924469\n",
            "0.6695906519889832\n",
            "0.6713690757751465\n",
            "0.6811754703521729\n",
            "0.6664491891860962\n",
            "0.665264904499054\n",
            "0.6722822189331055\n",
            "0.6850647926330566\n",
            "Acc1: tensor(0.2154, device='cuda:0')\n",
            "Epoch: 2. Loss: 0.674540128967555. Accuracy: 0.5803236961364746\n",
            "Iteration: 42970. Val_Loss: 0.6762306420866518.  Accuracy_1:0.5806398391723633\n",
            "epoch: 3\n",
            "0.6704694628715515\n",
            "0.6933454871177673\n",
            "0.6749435663223267\n",
            "0.664244532585144\n",
            "0.6766749620437622\n",
            "0.679567813873291\n",
            "0.6573078036308289\n",
            "0.6824946999549866\n",
            "0.6690002679824829\n",
            "0.6797308325767517\n",
            "0.6747337579727173\n",
            "0.7009255886077881\n",
            "0.6663438081741333\n",
            "0.6664242744445801\n",
            "0.6631806492805481\n",
            "0.6794426441192627\n",
            "0.6701363921165466\n",
            "0.6587643027305603\n",
            "0.6833900213241577\n",
            "0.6617307066917419\n",
            "0.6950221061706543\n",
            "0.6787989139556885\n",
            "SAVE MODEL to /content/drive/MyDrive/Model_files/dim_reduction/classifier/pca/epoch_3.th\n",
            "Acc1: tensor(0.2154, device='cuda:0')\n",
            "Epoch: 3. Loss: 0.6742906061277463. Accuracy: 0.5805121064186096\n",
            "Iteration: 64455. Val_Loss: 0.6730998347274113.  Accuracy_1:0.5833106637001038\n",
            "epoch: 4\n",
            "0.6651140451431274\n",
            "0.6779477596282959\n",
            "0.675117015838623\n",
            "0.6982157230377197\n",
            "0.6760432720184326\n",
            "0.6704533696174622\n",
            "0.6674627661705017\n",
            "0.6910452842712402\n",
            "0.6742052435874939\n",
            "0.6697136759757996\n",
            "0.6772511601448059\n",
            "0.6882556080818176\n",
            "0.6652849912643433\n",
            "0.6867877840995789\n",
            "0.6602786779403687\n",
            "0.6599330306053162\n",
            "0.6709949970245361\n",
            "0.6811419129371643\n",
            "0.6511005759239197\n",
            "0.6667730808258057\n",
            "0.673096239566803\n",
            "Acc1: tensor(0.2155, device='cuda:0')\n",
            "Epoch: 4. Loss: 0.6741380603418312. Accuracy: 0.5806828141212463\n",
            "Iteration: 85940. Val_Loss: 0.6730319486669777.  Accuracy_1:0.582930862903595\n",
            "epoch: 5\n",
            "0.6802117824554443\n",
            "0.6572554111480713\n",
            "0.6726531386375427\n",
            "0.663802981376648\n",
            "0.6805864572525024\n",
            "0.6777649521827698\n",
            "0.6915146708488464\n",
            "0.6631609797477722\n",
            "0.6626465320587158\n",
            "0.6664190888404846\n",
            "0.6653401851654053\n",
            "0.6593760251998901\n",
            "0.6637893915176392\n",
            "0.6579102873802185\n",
            "0.6875122785568237\n",
            "0.672054648399353\n",
            "0.6647674441337585\n",
            "0.675054132938385\n",
            "0.6589310765266418\n",
            "0.6687444448471069\n",
            "0.658134937286377\n",
            "0.677722692489624\n",
            "Acc1: tensor(0.2156, device='cuda:0')\n",
            "Epoch: 5. Loss: 0.6740102229241524. Accuracy: 0.5809187889099121\n",
            "Iteration: 107425. Val_Loss: 0.6731507443844845.  Accuracy_1:0.5829448103904724\n",
            "epoch: 6\n",
            "0.6684206128120422\n",
            "0.6769697070121765\n",
            "0.6811566948890686\n",
            "0.701978325843811\n",
            "0.6795614361763\n",
            "0.686032772064209\n",
            "0.6876000165939331\n",
            "0.6798959970474243\n",
            "0.6649003624916077\n",
            "0.6877721548080444\n",
            "0.6619865894317627\n",
            "0.6778168678283691\n",
            "0.6831842660903931\n",
            "0.6979157328605652\n",
            "0.6657766103744507\n",
            "0.675387978553772\n",
            "0.6594448685646057\n",
            "0.6738942861557007\n",
            "0.6916354298591614\n",
            "0.672111988067627\n",
            "0.6657767295837402\n",
            "SAVE MODEL to /content/drive/MyDrive/Model_files/dim_reduction/classifier/pca/epoch_6.th\n",
            "Acc1: tensor(0.2156, device='cuda:0')\n",
            "Epoch: 6. Loss: 0.6739134784462787. Accuracy: 0.5809224247932434\n",
            "Iteration: 128910. Val_Loss: 0.6731392018870663.  Accuracy_1:0.5832827091217041\n",
            "epoch: 7\n",
            "0.6689602732658386\n",
            "0.6673328876495361\n",
            "0.6896109580993652\n",
            "0.6705962419509888\n",
            "0.673055112361908\n",
            "0.6545976400375366\n",
            "0.6698892712593079\n",
            "0.6810154914855957\n",
            "0.6734668612480164\n",
            "0.6787747740745544\n",
            "0.6960092186927795\n",
            "0.6694943904876709\n",
            "0.6775587201118469\n",
            "0.6774295568466187\n",
            "0.6494818329811096\n",
            "0.6811750531196594\n",
            "0.6731513142585754\n",
            "0.6879650354385376\n",
            "0.6873586773872375\n",
            "0.6784260869026184\n",
            "0.6775376796722412\n",
            "0.6932131052017212\n",
            "Acc1: tensor(0.2156, device='cuda:0')\n",
            "Epoch: 7. Loss: 0.673850769460659. Accuracy: 0.5810797214508057\n",
            "Iteration: 150395. Val_Loss: 0.6728155827083021.  Accuracy_1:0.5835145711898804\n",
            "epoch: 8\n",
            "0.6680178642272949\n",
            "0.7022674679756165\n",
            "0.6926853656768799\n",
            "0.6910918354988098\n",
            "0.6546679139137268\n",
            "0.6837818026542664\n",
            "0.6494137048721313\n",
            "0.6595509052276611\n",
            "0.6657580137252808\n",
            "0.6686041355133057\n",
            "0.6649810671806335\n",
            "0.6780299544334412\n",
            "0.6629310846328735\n",
            "0.6752592921257019\n",
            "0.6693846583366394\n",
            "0.6730867624282837\n",
            "0.6839994192123413\n",
            "0.6804494857788086\n",
            "0.6890262365341187\n",
            "0.6754773259162903\n",
            "0.6747961640357971\n",
            "Acc1: tensor(0.2157, device='cuda:0')\n",
            "Epoch: 8. Loss: 0.6737782112492887. Accuracy: 0.5811502933502197\n",
            "Iteration: 171880. Val_Loss: 0.6729819090119892.  Accuracy_1:0.5833226442337036\n",
            "epoch: 9\n",
            "0.6684663891792297\n",
            "0.6666513085365295\n",
            "0.657095193862915\n",
            "0.6754618287086487\n",
            "0.6853289008140564\n",
            "0.6747762560844421\n",
            "0.6658574342727661\n",
            "0.6588557362556458\n",
            "0.677821934223175\n",
            "0.6508970260620117\n",
            "0.673945963382721\n",
            "0.6686815023422241\n",
            "0.663018524646759\n",
            "0.6538268327713013\n",
            "0.6513925790786743\n",
            "0.664815366268158\n",
            "0.6659187078475952\n",
            "0.6850951313972473\n",
            "0.6572047472000122\n",
            "0.6690630912780762\n",
            "0.6732650995254517\n",
            "0.6783947348594666\n",
            "SAVE MODEL to /content/drive/MyDrive/Model_files/dim_reduction/classifier/pca/epoch_9.th\n",
            "Acc1: tensor(0.2157, device='cuda:0')\n",
            "Epoch: 9. Loss: 0.673722402700469. Accuracy: 0.5811471939086914\n",
            "Iteration: 193365. Val_Loss: 0.6727787815987637.  Accuracy_1:0.5834586024284363\n",
            "epoch: 10\n",
            "0.6628456115722656\n",
            "0.6735767126083374\n",
            "0.6608697175979614\n",
            "0.6731290221214294\n",
            "0.6780579686164856\n",
            "0.6591814756393433\n",
            "0.6806087493896484\n",
            "0.6652728319168091\n",
            "0.6689993143081665\n",
            "0.6817295551300049\n",
            "0.6788948178291321\n",
            "0.6853686571121216\n",
            "0.6811165809631348\n",
            "0.6810758709907532\n",
            "0.7016385793685913\n",
            "0.6532498002052307\n",
            "0.6679903864860535\n",
            "0.6596067547798157\n",
            "0.6818467378616333\n",
            "0.6712926626205444\n",
            "0.6981770396232605\n",
            "Acc1: tensor(0.2157, device='cuda:0')\n",
            "Epoch: 10. Loss: 0.6736846522977525. Accuracy: 0.5813342928886414\n",
            "Iteration: 214850. Val_Loss: 0.6727357404563907.  Accuracy_1:0.5837464928627014\n",
            "epoch: 11\n",
            "0.6767290234565735\n",
            "0.666253387928009\n",
            "0.6622128486633301\n",
            "0.6602808833122253\n",
            "0.6694276928901672\n",
            "0.6909947991371155\n",
            "0.6711094975471497\n",
            "0.6863656640052795\n"
          ],
          "name": "stdout"
        }
      ]
    },
    {
      "cell_type": "code",
      "metadata": {
        "id": "rpCUfN2OUA7-"
      },
      "source": [
        "model,optimizer1,lst_epoch=load_checkpoint(model,'/content/drive/MyDrive/Model_files','dim_reduction/classifier/pca',optimizer1,12,device)\n"
      ],
      "execution_count": 14,
      "outputs": []
    },
    {
      "cell_type": "markdown",
      "metadata": {
        "id": "WSWz1z2wDbFk"
      },
      "source": [
        "Roc curve"
      ]
    },
    {
      "cell_type": "code",
      "metadata": {
        "id": "PMcRsUZ2l-9_"
      },
      "source": [
        "from sklearn.metrics import confusion_matrix, roc_curve, auc\n",
        "from scipy import interp\n",
        "import matplotlib.pyplot as plt\n",
        "\n",
        "def print_roc_curve(y_test, y_score, n_classes, figsize = (8, 6)):\n",
        "    lw = 2\n",
        "    # Compute ROC curve and ROC area for each class\n",
        "    fpr = dict()\n",
        "    tpr = dict()\n",
        "    roc_auc = dict()\n",
        "    for i in range(n_classes):\n",
        "        fpr[i], tpr[i], _ = roc_curve(y_test[:, i], y_score[:, i])\n",
        "        roc_auc[i] = auc(fpr[i], tpr[i])\n",
        "    # Compute micro-average ROC curve and ROC area\n",
        "    fpr[\"micro\"], tpr[\"micro\"], _ = roc_curve(y_test.ravel(), y_score.ravel())\n",
        "    roc_auc[\"micro\"] = auc(fpr[\"micro\"], tpr[\"micro\"])\n",
        "    # First aggregate all false positive rates\n",
        "    all_fpr = np.unique(np.concatenate([fpr[i] for i in range(n_classes)]))\n",
        "    # Then interpolate all ROC curves at this points\n",
        "    mean_tpr = np.zeros_like(all_fpr)\n",
        "    for i in range(n_classes):\n",
        "        mean_tpr += interp(all_fpr, fpr[i], tpr[i])\n",
        "\n",
        "    # Finally average it and compute AUC\n",
        "    mean_tpr /= n_classes\n",
        "\n",
        "    fpr[\"macro\"] = all_fpr\n",
        "    tpr[\"macro\"] = mean_tpr\n",
        "    roc_auc[\"macro\"] = auc(fpr[\"macro\"], tpr[\"macro\"])\n",
        "    fig = plt.figure(figsize=figsize)\n",
        "    \"\"\"\n",
        "    plt.plot(fpr[\"micro\"], tpr[\"micro\"],\n",
        "            label='micro-average ROC curve (area = {0:0.2f})'\n",
        "                    ''.format(roc_auc[\"micro\"]),\n",
        "            color='deeppink', linestyle=':', linewidth=4)\n",
        "    \"\"\"\n",
        "    plt.plot(fpr[\"macro\"], tpr[\"macro\"],\n",
        "            label='macro-average ROC curve (area = {0:0.2f})'\n",
        "                ''.format(roc_auc[\"macro\"]),\n",
        "            color='navy', linestyle=':', linewidth=4)\n",
        "    plt.plot([0, 1], [0, 1], 'k--', lw=lw)\n",
        "    plt.xlim([0.0, 1.0])\n",
        "    plt.ylim([0.0, 1.05])\n",
        "    plt.xlabel('False Positive Rate')\n",
        "    plt.ylabel('True Positive Rate')\n",
        "    #plt.title('Some extension of Receiver operating characteristic to multi-class')\n",
        "    plt.legend(loc=\"lower right\")\n",
        "    return "
      ],
      "execution_count": 31,
      "outputs": []
    },
    {
      "cell_type": "code",
      "metadata": {
        "id": "O7fjqSLsU4BA"
      },
      "source": [
        "def activated_output_transform(output):\n",
        "    y_pred, y = output\n",
        "    y_pred = torch.sigmoid(y_pred)\n",
        "    return y_pred, y\n"
      ],
      "execution_count": null,
      "outputs": []
    },
    {
      "cell_type": "code",
      "metadata": {
        "id": "6DajQ5jdg0WP"
      },
      "source": [
        "y_test1 = []\n",
        "y_score1 = []\n",
        "\n",
        "for i, (dat,labels) in enumerate(test_loader):\n",
        "        dat=dat.to(device)\n",
        "        labels=labels.to(device)\n",
        "        y_test1.append(labels)\n",
        "        y_test = torch.cat(y_test1, dim=0)\n",
        "        outputs = model(dat)\n",
        "        y_score1.append(outputs)\n",
        "        y_score = torch.cat(y_score1, dim=0)"
      ],
      "execution_count": 17,
      "outputs": []
    },
    {
      "cell_type": "code",
      "metadata": {
        "id": "PZrrRk6ds6XN"
      },
      "source": [
        "a=y_test.detach().cpu().numpy()\n",
        "b = np.zeros((a.size, a.max()+1))\n",
        "b[np.arange(a.size),a] = 1"
      ],
      "execution_count": 25,
      "outputs": []
    },
    {
      "cell_type": "code",
      "metadata": {
        "colab": {
          "base_uri": "https://localhost:8080/",
          "height": 425
        },
        "id": "92WXIfderTj7",
        "outputId": "bf19992c-bfca-4c50-d54e-83805e408ee4"
      },
      "source": [
        "print_roc_curve(b ,y_score.detach().cpu().numpy(),2)"
      ],
      "execution_count": 32,
      "outputs": [
        {
          "output_type": "stream",
          "text": [
            "/usr/local/lib/python3.7/dist-packages/ipykernel_launcher.py:22: DeprecationWarning: scipy.interp is deprecated and will be removed in SciPy 2.0.0, use numpy.interp instead\n"
          ],
          "name": "stderr"
        },
        {
          "output_type": "display_data",
          "data": {
            "image/png": "[encoded data removed]",
            "text/plain": [
              "<Figure size 576x432 with 1 Axes>"
            ]
          },
          "metadata": {
            "tags": [],
            "needs_background": "light"
          }
        }
      ]
    }
  ]
}