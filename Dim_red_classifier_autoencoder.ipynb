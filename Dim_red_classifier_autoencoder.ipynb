{
  "nbformat": 4,
  "nbformat_minor": 0,
  "metadata": {
    "colab": {
      "name": "Dim_red_classifier_autoencoder.ipynb",
      "provenance": [],
      "collapsed_sections": [],
      "mount_file_id": "1cDhfU3ehGhCWstcJVPwL52JjcbVFR3dM",
      "authorship_tag": "ABX9TyP4g8HQJO58CddoLsKz2BHU",
      "include_colab_link": true
    },
    "kernelspec": {
      "name": "python3",
      "display_name": "Python 3"
    },
    "language_info": {
      "name": "python"
    },
    "accelerator": "GPU"
  },
  "cells": [
    {
      "cell_type": "markdown",
      "metadata": {
        "id": "view-in-github",
        "colab_type": "text"
      },
      "source": [
        "<a href=\"https://colab.research.google.com/github/RajArPatra/Dimentionality-Reduction/blob/main/Dim_red_classifier_autoencoder.ipynb\" target=\"_parent\"><img src=\"https://colab.research.google.com/assets/colab-badge.svg\" alt=\"Open In Colab\"/></a>"
      ]
    },
    {
      "cell_type": "code",
      "metadata": {
        "id": "I7jXAHbwtzPQ"
      },
      "source": [
        "!cp  /content/drive/MyDrive/Model_files/dim_reduction/test_auto.npy /content\n",
        "!cp  /content/drive/MyDrive/Model_files/dim_reduction/train_auto.npy /content"
      ],
      "execution_count": 3,
      "outputs": []
    },
    {
      "cell_type": "markdown",
      "metadata": {
        "id": "syWYWjiYAl-r"
      },
      "source": [
        "Import Libraries"
      ]
    },
    {
      "cell_type": "code",
      "metadata": {
        "id": "vv7KWMI89AXq"
      },
      "source": [
        "from sklearn.preprocessing import StandardScaler,MinMaxScaler\n",
        "import pandas as pd\n",
        "import torchvision\n",
        "import os\n",
        "import numpy as np\n",
        "from skimage import io,transform as ts\n",
        "import torch\n",
        "from torchvision import transforms\n",
        "from torch.utils.data import Dataset\n",
        "import torch\n",
        "import torch.nn as nn\n",
        "import torch.nn.functional as F\n",
        "from PIL import Image\n",
        "import imgaug as ia\n",
        "import imgaug.augmenters as iaa\n",
        "from sklearn.decomposition import PCA\n",
        "from sklearn.manifold import TSNE\n",
        "#from bhtsne import tsne\n",
        "from torch.autograd import Variable"
      ],
      "execution_count": 4,
      "outputs": []
    },
    {
      "cell_type": "code",
      "metadata": {
        "id": "V-bmGSx39DZv"
      },
      "source": [
        "from torch.utils.tensorboard import SummaryWriter\n",
        "writer = SummaryWriter()"
      ],
      "execution_count": null,
      "outputs": []
    },
    {
      "cell_type": "markdown",
      "metadata": {
        "id": "sINGpnNkBeLT"
      },
      "source": [
        "Dataset and Dataloader"
      ]
    },
    {
      "cell_type": "code",
      "metadata": {
        "id": "Fjo_viUT9MNi"
      },
      "source": [
        "class data1(Dataset):\n",
        "    def __init__(self, train=True,device='cpu'):\n",
        "      self.train=train\n",
        "      self.scaler=MinMaxScaler()\n",
        "      \n",
        "      #self.scaler.fit(np.load('train_num.npy',allow_pickle=True)[:,-1].reshape(-1, 1))\n",
        "      self.device=device\n",
        "      #x_test = np.load(f,allow_pickle=True)\n",
        "      #y_test= np.load('/content/y_test_pred.npy',allow_pickle=True) \n",
        "      #z=int(0.9*X_train.shape[0])\n",
        "      \n",
        "     \n",
        "      if train:\n",
        "        self.data= np.load('train_auto.npy',allow_pickle=True)\n",
        "        self.data_x=self.data[:,1:]\n",
        "        \n",
        "        self.data_y=self.data[:,0]\n",
        "      \n",
        "      else:\n",
        "        self.data= np.load('test_auto.npy',allow_pickle=True)\n",
        "        self.data_x=self.data[:,1:]\n",
        "        \n",
        "        self.data_y=self.data[:,0]\n",
        "      \n",
        "     \n",
        "      \n",
        "    def __getitem__(self, idx):\n",
        "     \n",
        "      #X=scaler.fit_transform(X.reshape(1, -1))\n",
        "      X=torch.from_numpy(self.data_x[idx]).float()\n",
        "      \n",
        "      \n",
        "      \n",
        "      '''if self.train:\n",
        "        y=torch.tensor(self.map[int(self.data_y[idx])])\n",
        "      else:'''\n",
        "      \n",
        "      y=torch.tensor(self.data_y[idx]).long()\n",
        "      \n",
        "     \n",
        "      return X.to(self.device), y.to(self.device)\n",
        "      \n",
        "    def __len__(self):\n",
        "      \n",
        "      return self.data.shape[0]"
      ],
      "execution_count": 5,
      "outputs": []
    },
    {
      "cell_type": "code",
      "metadata": {
        "id": "P355x3GC9QDg",
        "colab": {
          "base_uri": "https://localhost:8080/",
          "height": 35
        },
        "outputId": "8c4bd076-3b9e-4ff7-bd09-e3535a21a1d3"
      },
      "source": [
        "if torch.cuda.is_available():\n",
        "  device='cuda'\n",
        "else :\n",
        "   device='cpu'\n",
        "device"
      ],
      "execution_count": 6,
      "outputs": [
        {
          "output_type": "execute_result",
          "data": {
            "application/vnd.google.colaboratory.intrinsic+json": {
              "type": "string"
            },
            "text/plain": [
              "'cpu'"
            ]
          },
          "metadata": {
            "tags": []
          },
          "execution_count": 6
        }
      ]
    },
    {
      "cell_type": "code",
      "metadata": {
        "id": "XI4V8O8T9S0X"
      },
      "source": [
        "train_dataset=data1(train=True,device=device)\n",
        "test_dataset=data1(train=False,device=device)\n",
        "train_loader=torch.utils.data.DataLoader(dataset=train_dataset, \n",
        "                                           batch_size=256,\n",
        "                                           shuffle=True)\n",
        "test_loader=torch.utils.data.DataLoader(dataset=test_dataset, \n",
        "                                           batch_size=256, \n",
        "                                           shuffle=False)"
      ],
      "execution_count": 7,
      "outputs": []
    },
    {
      "cell_type": "markdown",
      "metadata": {
        "id": "vtUR1NrqBiKn"
      },
      "source": [
        "Model Architecture"
      ]
    },
    {
      "cell_type": "code",
      "metadata": {
        "id": "tH3yQPpA9YZl"
      },
      "source": [
        "import torch\n",
        "from torch import nn\n",
        "\n",
        "import torch\n",
        "from torch import nn\n",
        "import torch.nn.functional as F\n",
        "\n",
        "\n",
        "class Conv1dSamePadding(nn.Conv1d):\n",
        "\n",
        "    def forward(self, input):\n",
        "        return conv1d_same_padding(input, self.weight, self.bias, self.stride,\n",
        "                                   self.dilation, self.groups)\n",
        "\n",
        "\n",
        "def conv1d_same_padding(input, weight, bias, stride, dilation, groups):\n",
        "    # stride and dilation are expected to be tuples.\n",
        "    kernel, dilation, stride = weight.size(2), dilation[0], stride[0]\n",
        "    l_out = l_in = input.size(2)\n",
        "    padding = (((l_out - 1) * stride) - l_in + (dilation * (kernel - 1)) + 1)\n",
        "    if padding % 2 != 0:\n",
        "        input = F.pad(input, [0, 1])\n",
        "\n",
        "    return F.conv1d(input=input, weight=weight, bias=bias, stride=stride,\n",
        "                    padding=padding // 2,\n",
        "                    dilation=dilation, groups=groups)\n",
        "\n",
        "\n",
        "class ConvBlock(nn.Module):\n",
        "\n",
        "    def __init__(self, in_channels: int, out_channels: int, kernel_size: int,\n",
        "                 stride: int) -> None:\n",
        "        super().__init__()\n",
        "\n",
        "        self.layers = nn.Sequential(\n",
        "            Conv1dSamePadding(in_channels=in_channels,\n",
        "                              out_channels=out_channels,\n",
        "                              kernel_size=kernel_size,\n",
        "                              stride=stride),\n",
        "            nn.BatchNorm1d(num_features=out_channels),\n",
        "            nn.ReLU(),\n",
        "        )\n",
        "\n",
        "    def forward(self, x: torch.Tensor) -> torch.Tensor:  # type: ignore\n",
        "\n",
        "        return self.layers(x)\n",
        "\n",
        "\n",
        "\n",
        "\n",
        "\n",
        "\n",
        "\n",
        "\n",
        "\n",
        "class ResNetBaseline(nn.Module):\n",
        "\n",
        "\n",
        "    def __init__(self, in_channels: int, mid_channels: int = 64,\n",
        "                 num_pred_classes: int = 1) -> None:\n",
        "        super().__init__()\n",
        "\n",
        "        # for easier saving and loading\n",
        "        self.input_args = {\n",
        "            'in_channels': in_channels,\n",
        "            'num_pred_classes': num_pred_classes\n",
        "        }\n",
        "\n",
        "        self.layers = nn.Sequential(*[\n",
        "            ResNetBlock(in_channels=in_channels, out_channels=mid_channels),\n",
        "            ResNetBlock(in_channels=mid_channels, out_channels=mid_channels * 2),\n",
        "            ResNetBlock(in_channels=mid_channels * 2, out_channels=mid_channels * 2),\n",
        "\n",
        "        ])\n",
        "        self.final = nn.Linear(mid_channels * 2, num_pred_classes)\n",
        "\n",
        "    def forward(self, x: torch.Tensor) -> torch.Tensor:  # type: ignore\n",
        "        x = self.layers(x.unsqueeze(2))\n",
        "        return self.final(x.mean(dim=-1))\n",
        "\n",
        "\n",
        "class ResNetBlock(nn.Module):\n",
        "\n",
        "    def __init__(self, in_channels: int, out_channels: int) -> None:\n",
        "        super().__init__()\n",
        "\n",
        "        channels = [in_channels, out_channels, out_channels, out_channels]\n",
        "        kernel_sizes = [8, 5, 3]\n",
        "\n",
        "        self.layers = nn.Sequential(*[\n",
        "            ConvBlock(in_channels=channels[i], out_channels=channels[i + 1],\n",
        "                      kernel_size=kernel_sizes[i], stride=1) for i in range(len(kernel_sizes))\n",
        "        ])\n",
        "\n",
        "        self.match_channels = False\n",
        "        if in_channels != out_channels:\n",
        "            self.match_channels = True\n",
        "            self.residual = nn.Sequential(*[\n",
        "                Conv1dSamePadding(in_channels=in_channels, out_channels=out_channels,\n",
        "                                  kernel_size=1, stride=1),\n",
        "                nn.BatchNorm1d(num_features=out_channels)\n",
        "            ])\n",
        "\n",
        "    def forward(self, x: torch.Tensor) -> torch.Tensor:  # type: ignore\n",
        "\n",
        "        if self.match_channels:\n",
        "            return self.layers(x) + self.residual(x)\n",
        "        return self.layers(x)"
      ],
      "execution_count": 8,
      "outputs": []
    },
    {
      "cell_type": "markdown",
      "metadata": {
        "id": "9qqe--OtBsqn"
      },
      "source": [
        "Helper function to Initialise weight"
      ]
    },
    {
      "cell_type": "code",
      "metadata": {
        "id": "5edXoGOadL00"
      },
      "source": [
        "from torch.nn import init\n",
        "def init_weights(net, init_type='normal', gain=0.02):\n",
        "    def init_func(m):\n",
        "        classname = m.__class__.__name__\n",
        "        if hasattr(m, 'weight') and (classname.find('Conv') != -1 or classname.find('Linear') != -1):\n",
        "            if init_type == 'normal':\n",
        "                init.normal_(m.weight.data, 0.0, gain)\n",
        "            elif init_type == 'xavier':\n",
        "                init.xavier_normal_(m.weight.data, gain=gain)\n",
        "            elif init_type == 'kaiming':\n",
        "                init.kaiming_normal_(m.weight.data, a=0, mode='fan_in')\n",
        "            elif init_type == 'orthogonal':\n",
        "                init.orthogonal_(m.weight.data, gain=gain)\n",
        "            else:\n",
        "                raise NotImplementedError('initialization method [%s] is not implemented' % init_type)\n",
        "            if hasattr(m, 'bias') and m.bias is not None:\n",
        "                init.constant_(m.bias.data, 0.0)\n",
        "        elif classname.find('BatchNorm2d') != -1:\n",
        "            init.normal_(m.weight.data, 1.0, gain)\n",
        "            init.constant_(m.bias.data, 0.0)\n",
        "\n",
        "    print('initialize network with %s' % init_type)\n",
        "    net.apply(init_func)"
      ],
      "execution_count": 9,
      "outputs": []
    },
    {
      "cell_type": "code",
      "metadata": {
        "id": "z-HD8Eq69cdT",
        "colab": {
          "base_uri": "https://localhost:8080/"
        },
        "outputId": "527e8314-77b9-4f7d-b406-fb8c215607b3"
      },
      "source": [
        "model=ResNetBaseline(in_channels=3,num_pred_classes=2)\n",
        "model=model.to(device)\n",
        "init_weights(model,'kaiming')\n",
        "learning_rate = 0.001\n",
        "criterion1 = nn.CrossEntropyLoss()  \n",
        "#optimizer1 = torch.optim.SGD(model.parameters(), lr=learning_rate,momentum=0.9,weight_decay=0.0005,nesterov=True)  \n",
        "optimizer1=torch.optim.Adam(model.parameters(), lr=learning_rate)\n",
        "scheduler=torch.optim.lr_scheduler.CosineAnnealingLR(optimizer1, T_max=10, eta_min=0)\n"
      ],
      "execution_count": 10,
      "outputs": [
        {
          "output_type": "stream",
          "text": [
            "initialize network with kaiming\n"
          ],
          "name": "stdout"
        }
      ]
    },
    {
      "cell_type": "code",
      "metadata": {
        "id": "y7jKkOSxErkU"
      },
      "source": [
        "def accuracy_fn(output, target, topk=(1,)):\n",
        "    \"\"\"Computes the precision@k for the specified values of k\"\"\"\n",
        "    maxk = max(topk)\n",
        "    batch_size = target.size(0)\n",
        "\n",
        "    _, pred = output.topk(maxk, 1, True, True)\n",
        "    pred = pred.t()\n",
        "    correct = pred.eq(target.view(1, -1).expand_as(pred))\n",
        "\n",
        "    res = []\n",
        "    for k in topk:\n",
        "        correct_k = correct[:k].reshape(-1).float().sum(0)\n",
        "        res.append(correct_k.mul_(1/ batch_size))\n",
        "    return res"
      ],
      "execution_count": null,
      "outputs": []
    },
    {
      "cell_type": "markdown",
      "metadata": {
        "id": "EtogNjuaCr8T"
      },
      "source": [
        "Save CheckPoint"
      ]
    },
    {
      "cell_type": "code",
      "metadata": {
        "id": "KVVB7vffFCjl"
      },
      "source": [
        "def save_checkpoint(model, save_folder, name, epoch, opt, best_model=False):\n",
        "\n",
        "    if best_model:\n",
        "        save_path = \"{}/{}/best_model.th\".format(\n",
        "            save_folder, name)\n",
        "    else:\n",
        "        save_path = \"{}/{}/epoch_{}.th\".format(save_folder,\n",
        "                                               name, epoch)\n",
        "\n",
        "    if not os.path.exists(save_folder + \"/\" + name):\n",
        "        os.makedirs(save_folder + \"/\" + name)\n",
        "\n",
        "    print(\"SAVE MODEL to\", save_path)\n",
        "\n",
        "\n",
        "    param_dict = {\n",
        "        'epoch': epoch,\n",
        "        'model_state_dict': model.state_dict(),\n",
        "        'optimizer_state_dict': opt.state_dict()}\n",
        "        \n",
        "\n",
        "    torch.save(param_dict, save_path)"
      ],
      "execution_count": null,
      "outputs": []
    },
    {
      "cell_type": "markdown",
      "metadata": {
        "id": "YoJ1RvQjC9h2"
      },
      "source": [
        "Load CheckPoint"
      ]
    },
    {
      "cell_type": "code",
      "metadata": {
        "id": "pseWfh1GTPEi"
      },
      "source": [
        "def load_checkpoint(model, save_folder, model_name, opt,epoch,device ,best_model=False):\n",
        "      if best_model:\n",
        "        load_path = \"{}/model_{}/best_model.th\".format(save_folder, model_name)\n",
        "      else:\n",
        "        load_path = \"{}/{}/epoch_{}.th\".format(save_folder,\n",
        "                                                model_name, epoch)\n",
        "\n",
        "      checkpoint = torch.load(load_path,map_location=device)\n",
        "\n",
        "      epoch = checkpoint['epoch']\n",
        "      \n",
        "\n",
        "      model =model # code for model init\n",
        "      model.load_state_dict(checkpoint['model_state_dict'])\n",
        "      model=model.to(device)\n",
        "\n",
        "      opt =opt #code for opt init\n",
        "      opt.load_state_dict(checkpoint['optimizer_state_dict'])\n",
        "      #opt.param_groups[0]['lr'] = checkpoint['optimizer_params']['lr']\n",
        "      return model, opt, epoch   \n"
      ],
      "execution_count": 13,
      "outputs": []
    },
    {
      "cell_type": "markdown",
      "metadata": {
        "id": "_ly7L9sgDVbx"
      },
      "source": [
        "Train"
      ]
    },
    {
      "cell_type": "code",
      "metadata": {
        "colab": {
          "base_uri": "https://localhost:8080/"
        },
        "id": "Z03wnqz5l1kP",
        "outputId": "969ea6f6-f661-41d7-9915-528dbce5306f"
      },
      "source": [
        "iter = 0\n",
        "num_epochs=20\n",
        "lst_epoch=1\n",
        "for epoch in range(lst_epoch,lst_epoch+num_epochs):\n",
        "    print(\"epoch: {}\".format(epoch))\n",
        "    #print('\\n')\n",
        "    cnt=0\n",
        "    sum1=0\n",
        "    correct = 0\n",
        "    correct_1 = 0\n",
        "    correct_3 =0\n",
        "    correct_5=0\n",
        "    total = 0\n",
        "    model.train()\n",
        "    for i, (dat,labels) in enumerate(train_loader):\n",
        "        # Load images as Variable\n",
        "        cnt+=1\n",
        "        dat=dat.to(device)\n",
        "        labels=labels.to(device)\n",
        "        \n",
        "        with torch.set_grad_enabled(True):\n",
        "           dat = dat.requires_grad_()\n",
        "\n",
        "           optimizer1.zero_grad()\n",
        "           outputs = model(dat)\n",
        "            \n",
        "           loss = criterion1(outputs, labels.long())\n",
        "           loss.backward()\n",
        "           loss1=loss.item()\n",
        "           optimizer1.step()\n",
        "           _, predicted = torch.max(outputs.data, 1)\n",
        "           r=accuracy_fn(outputs.data,labels.data)\n",
        "           correct_1+=r[0]\n",
        "           #correct_3+=r[1]\n",
        "           #correct_5+=r[2]\n",
        "          # Total number of labels\n",
        "           total += labels.size(0)\n",
        "           sum1 += loss1\n",
        "          # Total correct predictions\n",
        "           correct += (predicted == labels.long()).sum()\n",
        "            \n",
        "    \n",
        "           writer.add_scalar(\"Loss/iter\", loss1, iter)\n",
        "           writer.flush()\n",
        "           if(iter%1000==0):\n",
        "              #pass\n",
        "              print(loss1)\n",
        "           \n",
        "\n",
        "           iter += 1\n",
        "    if(epoch%1==0):\n",
        "     scheduler.step()\n",
        "    if(epoch%3==0): \n",
        "     save_checkpoint(model,'/content/drive/MyDrive/Model_files','dim_reduction/classifier/dim_auto',epoch,optimizer1)\n",
        "    accuracy = torch.true_divide(correct ,total)\n",
        "    accuracy1 = torch.true_divide(correct_1 ,total).mul(labels.size(0))  \n",
        "    print('Acc1:',accuracy1)\n",
        "    print('Epoch: {}. Loss: {}. Accuracy: {}'.format(epoch, sum1/cnt, accuracy))\n",
        "    if epoch % 1 == 0:\n",
        "      cnt=0\n",
        "      sum1=0\n",
        "      correct_1 = 0\n",
        "      correct_3 =0\n",
        "      correct_5=0\n",
        "      total = 0\n",
        "      model.eval()\n",
        "      for dat, labels in test_loader:\n",
        "          dat=dat.to(device)\n",
        "          labels=labels.to(device)\n",
        "          cnt+=1\n",
        "          \n",
        "          # Load images to a Torch Variable\n",
        "          dat = dat.requires_grad_()\n",
        "  \n",
        "          # Forward pass only to get logits/output\n",
        "          outputs = model(dat)\n",
        "          loss = criterion1(outputs, labels.long())\n",
        "          \n",
        "          loss1=loss.item()\n",
        "          #print(confidence)\n",
        "          #loss_l=confidence=\n",
        "          \n",
        "          \n",
        "\n",
        "          # Get predictions from the maximum value\n",
        "        \n",
        "          \n",
        "          # Total number of labels\n",
        "          total += torch.tensor(1)\n",
        "          sum1 += loss1\n",
        "          r=accuracy_fn(outputs.data,labels.data)\n",
        "          correct_1+=r[0]\n",
        "          #correct_3+=r[1]\n",
        "          #correct_5+=r[2]\n",
        "      #print(labels.size(0))\n",
        "      #a_1 = torch.true_divide(correct_1 ,total).mul(labels.size(0))  \n",
        "      a_1 = torch.true_divide(correct_1 ,total)\n",
        "     # a_1 = correct_1\n",
        "      #a_3 = torch.true_divide(correct_3 ,total).mul(labels.size(0))  \n",
        "      #a_5 = torch.true_divide(correct_5 ,total).mul(labels.size(0))  \n",
        "\n",
        "      writer.add_scalar(\"Val_Loss/iter\", sum1/cnt, iter)\n",
        "      writer.add_scalar(\"accuracy_1/iter\", a_1, iter)\n",
        "      #writer.add_scalar(\"accuracy_3/iter\", a_3, iter)\n",
        "      #writer.add_scalar(\"accuracy_5/iter\", a_5, iter)\n",
        "\n",
        "      writer.flush()\n",
        "      # Print Loss\n",
        "      print('Iteration: {}. Val_Loss: {}.  Accuracy_1:{}'.format(iter, sum1/cnt, a_1))\n",
        "      # Iterate through test dataset\n",
        "      #df1=pd.read_csv('/content/merged_data/test_challenge.csv',header=0)\n",
        "      '''for i, (dat, labels) in enumerate(test_loader):\n",
        "        dat=dat.to(device)\n",
        "        labels=labels.to(device)\n",
        "        cnt+=1\n",
        "        \n",
        "        # Load images to a Torch Variable\n",
        "        dat = dat.requires_grad_()\n",
        "\n",
        "        # Forward pass only to get logits/output\n",
        "        outputs = model(dat)\n",
        "        \n",
        "        #print(confidence)\n",
        "        #loss_l=confidence=\n",
        "        \n",
        "        \n",
        "\n",
        "        # Get predictions from the maximum value\n",
        "        _, predicted = torch.max(outputs.data, 1)\n",
        "        y=get_key(predicted)\n",
        "        #print(y)\n",
        "        df1.loc[i, '1']=y\n",
        "      df1.to_csv('output_'+str(epoch)+'.csv',index=False)\n",
        "      print('output_saved')'''"
      ],
      "execution_count": null,
      "outputs": [
        {
          "output_type": "stream",
          "text": [
            "epoch: 1\n",
            "0.8761447668075562\n",
            "0.6827362179756165\n",
            "0.6921765208244324\n",
            "0.6760490536689758\n",
            "0.6951557397842407\n",
            "0.6766582131385803\n",
            "0.6665738821029663\n",
            "0.6956546902656555\n",
            "0.6920598149299622\n",
            "0.6800625920295715\n",
            "0.6704995632171631\n",
            "0.6864855885505676\n",
            "0.6774515509605408\n",
            "0.6810683012008667\n",
            "0.6889492273330688\n",
            "0.6736879944801331\n",
            "0.6681155562400818\n",
            "0.6759743094444275\n",
            "0.6987186670303345\n",
            "0.700207531452179\n",
            "0.6776752471923828\n",
            "0.682061493396759\n",
            "Acc1: tensor(0.2060, device='cuda:0')\n",
            "Epoch: 1. Loss: 0.683073945222468. Accuracy: 0.5552079081535339\n",
            "Iteration: 21485. Val_Loss: 0.6806657307894716.  Accuracy_1:0.5643112063407898\n",
            "epoch: 2\n",
            "0.6800456643104553\n",
            "0.6683928370475769\n",
            "0.6649590730667114\n",
            "0.6833940148353577\n",
            "0.6949222683906555\n",
            "0.6572176218032837\n",
            "0.6734193563461304\n",
            "0.6988354921340942\n",
            "0.6916375160217285\n",
            "0.6723818182945251\n",
            "0.6880052089691162\n",
            "0.6775798797607422\n",
            "0.6830876469612122\n",
            "0.6787098050117493\n",
            "0.6702805757522583\n",
            "0.6730980277061462\n",
            "0.6838506460189819\n",
            "0.6885446906089783\n",
            "0.6847807765007019\n",
            "0.6587594151496887\n",
            "0.6814332604408264\n",
            "Acc1: tensor(0.2083, device='cuda:0')\n",
            "Epoch: 2. Loss: 0.6811012014694648. Accuracy: 0.5613079071044922\n",
            "Iteration: 42970. Val_Loss: 0.6800891866215419.  Accuracy_1:0.5657964944839478\n",
            "epoch: 3\n",
            "0.6829735636711121\n",
            "0.6703726053237915\n",
            "0.6788893938064575\n",
            "0.6880982518196106\n",
            "0.705503523349762\n",
            "0.6712518930435181\n",
            "0.6717140674591064\n",
            "0.6759786605834961\n",
            "0.6674208641052246\n",
            "0.6738981604576111\n",
            "0.6888825297355652\n",
            "0.6686598658561707\n",
            "0.6939060091972351\n",
            "0.6703615784645081\n",
            "0.6823619604110718\n",
            "0.693673849105835\n",
            "0.6588596701622009\n",
            "0.680728554725647\n",
            "0.6985740661621094\n",
            "0.6700466275215149\n",
            "0.6708522439002991\n",
            "0.6845589280128479\n",
            "SAVE MODEL to /content/drive/MyDrive/Model_files/dim_reduction/classifier/dim_auto/epoch_3.th\n",
            "Acc1: tensor(0.2087, device='cuda:0')\n",
            "Epoch: 3. Loss: 0.6806393563983216. Accuracy: 0.5623435378074646\n",
            "Iteration: 64455. Val_Loss: 0.6796571047730675.  Accuracy_1:0.5670239925384521\n",
            "epoch: 4\n",
            "0.6879828572273254\n",
            "0.6912482976913452\n",
            "0.6830077171325684\n",
            "0.6746273040771484\n",
            "0.686441957950592\n",
            "0.6783167123794556\n",
            "0.6734503507614136\n",
            "0.6813184022903442\n",
            "0.6930428147315979\n",
            "0.6688805818557739\n",
            "0.6765379905700684\n",
            "0.6856878399848938\n",
            "0.676953136920929\n",
            "0.6956972479820251\n",
            "0.6741532683372498\n",
            "0.6958408951759338\n",
            "0.676577091217041\n",
            "0.7037900686264038\n",
            "0.6765382289886475\n",
            "0.6750425696372986\n",
            "0.6866066455841064\n",
            "Acc1: tensor(0.2090, device='cuda:0')\n",
            "Epoch: 4. Loss: 0.6803340313321966. Accuracy: 0.5630888342857361\n",
            "Iteration: 85940. Val_Loss: 0.6790460142227864.  Accuracy_1:0.5671839118003845\n",
            "epoch: 5\n",
            "0.6691921949386597\n",
            "0.6992822289466858\n",
            "0.6836165189743042\n",
            "0.6760827302932739\n",
            "0.6971522569656372\n",
            "0.6736792325973511\n",
            "0.678265392780304\n",
            "0.6757333874702454\n",
            "0.6774867177009583\n",
            "0.6649079322814941\n",
            "0.685684859752655\n",
            "0.682213306427002\n",
            "0.6823378205299377\n",
            "0.6910111308097839\n",
            "0.6814756393432617\n",
            "0.6871274709701538\n",
            "0.6858776211738586\n",
            "0.6800422668457031\n",
            "0.6713871359825134\n",
            "0.693143904209137\n",
            "0.6777787804603577\n",
            "0.6695436239242554\n",
            "Acc1: tensor(0.2092, device='cuda:0')\n",
            "Epoch: 5. Loss: 0.6801520099577749. Accuracy: 0.5637293457984924\n",
            "Iteration: 107425. Val_Loss: 0.6789739933265269.  Accuracy_1:0.566972017288208\n",
            "epoch: 6\n",
            "0.6938436031341553\n",
            "0.6722925305366516\n",
            "0.6806782484054565\n",
            "0.6736106276512146\n",
            "0.6698747277259827\n",
            "0.6788169741630554\n",
            "0.6726323366165161\n",
            "0.6745175123214722\n",
            "0.6837212443351746\n",
            "0.6769378781318665\n",
            "0.6853516101837158\n",
            "0.6802908778190613\n",
            "0.7117253541946411\n",
            "0.6763361692428589\n",
            "0.6675788164138794\n",
            "0.684360921382904\n",
            "0.6746631860733032\n",
            "0.6890138387680054\n",
            "0.6838374137878418\n",
            "0.6801855564117432\n",
            "0.6882737278938293\n",
            "SAVE MODEL to /content/drive/MyDrive/Model_files/dim_reduction/classifier/dim_auto/epoch_6.th\n",
            "Acc1: tensor(0.2094, device='cuda:0')\n",
            "Epoch: 6. Loss: 0.6799026175463008. Accuracy: 0.5643093585968018\n",
            "Iteration: 128910. Val_Loss: 0.6786410211601668.  Accuracy_1:0.5677536129951477\n",
            "epoch: 7\n",
            "0.6642351150512695\n",
            "0.6751400828361511\n",
            "0.676009476184845\n",
            "0.681545078754425\n",
            "0.6789404153823853\n",
            "0.691035270690918\n",
            "0.696277379989624\n",
            "0.685621440410614\n",
            "0.6795809268951416\n",
            "0.6767158508300781\n",
            "0.6794374585151672\n",
            "0.6783214211463928\n",
            "0.6696773767471313\n",
            "0.6849012970924377\n",
            "0.6643969416618347\n",
            "0.6741133332252502\n",
            "0.6723316311836243\n",
            "0.682561993598938\n",
            "0.669273316860199\n",
            "0.6801005601882935\n",
            "0.6864029169082642\n",
            "0.6750875115394592\n",
            "Acc1: tensor(0.2096, device='cuda:0')\n",
            "Epoch: 7. Loss: 0.6796640868877183. Accuracy: 0.5648409724235535\n"
          ],
          "name": "stdout"
        }
      ]
    },
    {
      "cell_type": "code",
      "metadata": {
        "id": "rpCUfN2OUA7-"
      },
      "source": [
        "model,optimizer1,lst_epoch=load_checkpoint(model,'/content/drive/MyDrive/Model_files','dim_reduction/classifier/dim_auto',optimizer1,15,device)\n"
      ],
      "execution_count": 14,
      "outputs": []
    },
    {
      "cell_type": "markdown",
      "metadata": {
        "id": "WSWz1z2wDbFk"
      },
      "source": [
        "Roc curve"
      ]
    },
    {
      "cell_type": "code",
      "metadata": {
        "id": "O7fjqSLsU4BA"
      },
      "source": [
        ""
      ],
      "execution_count": null,
      "outputs": []
    },
    {
      "cell_type": "code",
      "metadata": {
        "id": "PMcRsUZ2l-9_"
      },
      "source": [
        "from sklearn.metrics import confusion_matrix, roc_curve, auc\n",
        "from scipy import interp\n",
        "import matplotlib.pyplot as plt\n",
        "\n",
        "def print_roc_curve(y_test, y_score, n_classes, figsize = (8, 6)):\n",
        "    lw = 2\n",
        "    # Compute ROC curve and ROC area for each class\n",
        "    fpr = dict()\n",
        "    tpr = dict()\n",
        "    roc_auc = dict()\n",
        "    for i in range(n_classes):\n",
        "        fpr[i], tpr[i], _ = roc_curve(y_test[:, i], y_score[:, i])\n",
        "        roc_auc[i] = auc(fpr[i], tpr[i])\n",
        "    # Compute micro-average ROC curve and ROC area\n",
        "    fpr[\"micro\"], tpr[\"micro\"], _ = roc_curve(y_test.ravel(), y_score.ravel())\n",
        "    roc_auc[\"micro\"] = auc(fpr[\"micro\"], tpr[\"micro\"])\n",
        "    # First aggregate all false positive rates\n",
        "    all_fpr = np.unique(np.concatenate([fpr[i] for i in range(n_classes)]))\n",
        "    # Then interpolate all ROC curves at this points\n",
        "    mean_tpr = np.zeros_like(all_fpr)\n",
        "    for i in range(n_classes):\n",
        "        mean_tpr += interp(all_fpr, fpr[i], tpr[i])\n",
        "\n",
        "    # Finally average it and compute AUC\n",
        "    mean_tpr /= n_classes\n",
        "\n",
        "    fpr[\"macro\"] = all_fpr\n",
        "    tpr[\"macro\"] = mean_tpr\n",
        "    roc_auc[\"macro\"] = auc(fpr[\"macro\"], tpr[\"macro\"])\n",
        "    fig = plt.figure(figsize=figsize)\n",
        "    \"\"\"\n",
        "    plt.plot(fpr[\"micro\"], tpr[\"micro\"],\n",
        "            label='micro-average ROC curve (area = {0:0.2f})'\n",
        "                    ''.format(roc_auc[\"micro\"]),\n",
        "            color='deeppink', linestyle=':', linewidth=4)\n",
        "    \"\"\"\n",
        "    plt.plot(fpr[\"macro\"], tpr[\"macro\"],\n",
        "            label='macro-average ROC curve (area = {0:0.2f})'\n",
        "                ''.format(roc_auc[\"macro\"]),\n",
        "            color='navy', linestyle=':', linewidth=4)\n",
        "    plt.plot([0, 1], [0, 1], 'k--', lw=lw)\n",
        "    plt.xlim([0.0, 1.0])\n",
        "    plt.ylim([0.0, 1.05])\n",
        "    plt.xlabel('False Positive Rate')\n",
        "    plt.ylabel('True Positive Rate')\n",
        "    #plt.title('Some extension of Receiver operating characteristic to multi-class')\n",
        "    plt.legend(loc=\"lower right\")\n",
        "    return "
      ],
      "execution_count": 20,
      "outputs": []
    },
    {
      "cell_type": "code",
      "metadata": {
        "id": "6DajQ5jdg0WP"
      },
      "source": [
        "y_test1 = []\n",
        "y_score1 = []\n",
        "\n",
        "for i, (dat,labels) in enumerate(test_loader):\n",
        "        dat=dat.to(device)\n",
        "        labels=labels.to(device)\n",
        "        y_test1.append(labels)\n",
        "        y_test = torch.cat(y_test1, dim=0)\n",
        "        outputs = model(dat)\n",
        "        y_score1.append(outputs)\n",
        "        y_score = torch.cat(y_score1, dim=0)"
      ],
      "execution_count": 17,
      "outputs": []
    },
    {
      "cell_type": "code",
      "metadata": {
        "id": "PZrrRk6ds6XN"
      },
      "source": [
        "a=y_test.detach().cpu().numpy()\n",
        "b = np.zeros((a.size, a.max()+1))\n",
        "b[np.arange(a.size),a] = 1"
      ],
      "execution_count": 18,
      "outputs": []
    },
    {
      "cell_type": "code",
      "metadata": {
        "colab": {
          "base_uri": "https://localhost:8080/",
          "height": 425
        },
        "id": "92WXIfderTj7",
        "outputId": "153c383f-3cad-42fd-fe94-50f7d6b5e86f"
      },
      "source": [
        "print_roc_curve(b ,y_score.detach().cpu().numpy(),2)"
      ],
      "execution_count": 21,
      "outputs": [
        {
          "output_type": "stream",
          "text": [
            "/usr/local/lib/python3.7/dist-packages/ipykernel_launcher.py:22: DeprecationWarning: scipy.interp is deprecated and will be removed in SciPy 2.0.0, use numpy.interp instead\n"
          ],
          "name": "stderr"
        },
        {
          "output_type": "display_data",
          "data": {
            "image/png": "[encoded data removed]",
            "text/plain": [
              "<Figure size 576x432 with 1 Axes>"
            ]
          },
          "metadata": {
            "tags": [],
            "needs_background": "light"
          }
        }
      ]
    }
  ]
}